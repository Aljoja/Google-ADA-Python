{
 "cells": [
  {
   "cell_type": "markdown",
   "metadata": {},
   "source": [
    "# zip(), enumerate(), and list comprehension\n",
    "You’ve learned much about iterable objects such as strings, lists, and tuples, and soon you’ll learn more. These objects comprise many of Python’s core data structures and, as a data professional, you’ll work with them constantly. While working in Python, you’ll often need to perform the same tasks and operations many times. This reading will introduce you to three time-saving tools: `zip()`, `enumerate()`, and list comprehension.\n",
    "\n",
    "### zip()\n",
    "The [zip() function](https://docs.python.org/3/library/functions.html#zip) is a built-in Python function that does what the name implies: It performs an element-wise combination of sequences. \n",
    "\n",
    "![ZIP](Image1.png)\n",
    "\n",
    "The function returns an **iterator** that produces tuples containing elements from each of the input sequences. An iterator is an object that enables processing of a collection of items one at a time without needing to assemble the entire collection at once. Use an iterator with loops or other iterable functions such as `list()` or `tuple()`. Here’s an example:"
   ]
  },
  {
   "cell_type": "code",
   "execution_count": 2,
   "metadata": {},
   "outputs": [
    {
     "name": "stdout",
     "output_type": "stream",
     "text": [
      "<zip object at 0x000002B5DE7BFC00>\n",
      "[('Paris', 'France'), ('Lagos', 'Nigeria'), ('Mumbai', 'India')]\n"
     ]
    }
   ],
   "source": [
    "cities = ['Paris', 'Lagos', 'Mumbai']\n",
    "countries = ['France', 'Nigeria', 'India']\n",
    "places = zip(cities, countries)\n",
    "\n",
    "\n",
    "print(places)\n",
    "print(list(places))"
   ]
  },
  {
   "cell_type": "markdown",
   "metadata": {},
   "source": [
    "Notice that, in this case, the `list()` function is used to generate a list of tuples from the iterator object. Here are a few things to keep in mind when using the `zip()` function.\n",
    "\n",
    "- It works with two or more iterable objects. The given example zips two sequences, but the zip() function will accept more sequences and apply the same logic. \n",
    "\n",
    "- If the input objects are of unequal length, the resulting iterator will be the same length as the shortest input.\n",
    "\n",
    "- If you give it only one iterable object as an argument, the function will return an iterator that produces tuples containing only one element from that iterable at a time. \n",
    "\n",
    "**Unzipping**\n",
    "\n",
    "You can also unzip an object with the `*` operator. Here’s the syntax:"
   ]
  },
  {
   "cell_type": "code",
   "execution_count": 3,
   "metadata": {},
   "outputs": [
    {
     "name": "stdout",
     "output_type": "stream",
     "text": [
      "('Nikola', 'Charles', 'Marie')\n",
      "('Tesla', 'Darwin', 'Curie')\n"
     ]
    }
   ],
   "source": [
    "scientists = [('Nikola', 'Tesla'), ('Charles', 'Darwin'), ('Marie', 'Curie')]\n",
    "given_names, surnames = zip(*scientists)\n",
    "print(given_names)\n",
    "print(surnames)"
   ]
  },
  {
   "cell_type": "markdown",
   "metadata": {},
   "source": [
    "Note that this operation unpacks the tuples in the original list element-wise into two tuples, thus separating the data into different variables that can be manipulated further.\n",
    "\n",
    "**`enumerate()`**\n",
    "\n",
    "The [enumerate() function](https://docs.python.org/3/library/functions.html#enumerate) is another built-in Python function that allows you to iterate over a sequence while keeping track of each element’s index. Similar to zip(), it returns an iterator that produces pairs of indices and elements. Here’s an example:"
   ]
  },
  {
   "cell_type": "code",
   "execution_count": 5,
   "metadata": {},
   "outputs": [
    {
     "name": "stdout",
     "output_type": "stream",
     "text": [
      "<enumerate object at 0x000002B5DE7BF580>\n",
      "0 a\n",
      "1 b\n",
      "2 c\n"
     ]
    }
   ],
   "source": [
    "letters = ['a', 'b', 'c']\n",
    "print(enumerate(letters))\n",
    "for index, letter in enumerate(letters):\n",
    "   print(index, letter)"
   ]
  },
  {
   "cell_type": "markdown",
   "metadata": {},
   "source": [
    "Note that the default starting index is zero, but you can assign it to whatever you want when you call the `enumerate()` function. For example:"
   ]
  },
  {
   "cell_type": "code",
   "execution_count": 6,
   "metadata": {},
   "outputs": [
    {
     "name": "stdout",
     "output_type": "stream",
     "text": [
      "2 a\n",
      "3 b\n",
      "4 c\n"
     ]
    }
   ],
   "source": [
    "letters = ['a', 'b', 'c']\n",
    "for index, letter in enumerate(letters, 2):\n",
    "   print(index, letter)"
   ]
  },
  {
   "cell_type": "markdown",
   "metadata": {},
   "source": [
    "In this case, the number two was passed as an argument to the function, and the first element of the resulting iterator had an index of two. The `enumerate()` function is useful when an element’s place in a sequence must be used to determine how the element should be handled in an operation.\n",
    "\n",
    "## List comprehension\n",
    "One of the most useful tools in Python is [list comprehension](https://docs.python.org/3/tutorial/datastructures.html?highlight=list%20comprehension#list-comprehensions). List comprehension is a concise and efficient way to create a new list based on the values in an existing iterable object. List comprehensions take the following form:\n",
    "\n",
    "`my_list = [expression for element in iterable if condition]`\n",
    "\n",
    "In this syntax:\n",
    "\n",
    "- `expression` refers to an operation or what you want to do with each element in the iterable sequence.\n",
    "\n",
    "- `element` is the variable name that you assign to represent each item in the iterable sequence.\n",
    "\n",
    "- `iterable` is the iterable sequence.\n",
    "\n",
    "- `condition` is any expression that evaluates to True or False. This element is optional and is used to filter elements of the iterable sequence.\n",
    "\n",
    "Here are some examples of list comprehensions:\n",
    "\n",
    "This list comprehension adds 10 to each number in the list:"
   ]
  },
  {
   "cell_type": "code",
   "execution_count": 7,
   "metadata": {},
   "outputs": [
    {
     "name": "stdout",
     "output_type": "stream",
     "text": [
      "[11, 12, 13, 14, 15]\n"
     ]
    }
   ],
   "source": [
    "numbers = [1, 2, 3, 4, 5]\n",
    "new_list = [x + 10 for x in numbers]\n",
    "print(new_list)"
   ]
  },
  {
   "cell_type": "markdown",
   "metadata": {},
   "source": [
    "In the preceding example, `x + 10` is the expression, `x` is the element, and `numbers` is the iterable sequence. There is no condition.    \n",
    "\n",
    "This next list comprehension extracts the first and last letter of each word as a tuple, but only if the word is more than five letters long."
   ]
  },
  {
   "cell_type": "code",
   "execution_count": 8,
   "metadata": {},
   "outputs": [
    {
     "name": "stdout",
     "output_type": "stream",
     "text": [
      "[('E', 'n'), ('S', 'a')]\n"
     ]
    }
   ],
   "source": [
    "words = ['Emotan', 'Amina', 'Ibeno', 'Sankwala']\n",
    "new_list = [(word[0], word[-1]) for word in words if len(word) > 5]\n",
    "print(new_list)"
   ]
  },
  {
   "cell_type": "markdown",
   "metadata": {},
   "source": [
    "Note that multiple operations can be performed in the expression component of the list comprehension to result in a list of tuples. This example also makes use of a condition to filter out words that are not more than five letters long.\n",
    "\n",
    "## Key takeaways\n",
    "`zip()`, `enumerate()`, and list comprehension make code more efficient by reducing the need to rely on loops to process data and simplifying working with iterables. Understanding these common tools will save you time and make your process much more dynamic when manipulating data. "
   ]
  }
 ],
 "metadata": {
  "kernelspec": {
   "display_name": "base",
   "language": "python",
   "name": "python3"
  },
  "language_info": {
   "codemirror_mode": {
    "name": "ipython",
    "version": 3
   },
   "file_extension": ".py",
   "mimetype": "text/x-python",
   "name": "python",
   "nbconvert_exporter": "python",
   "pygments_lexer": "ipython3",
   "version": "3.8.16"
  },
  "orig_nbformat": 4
 },
 "nbformat": 4,
 "nbformat_minor": 2
}
