{
 "cells": [
  {
   "cell_type": "markdown",
   "metadata": {},
   "source": [
    "# Compare lists, strings, and tuples\n",
    "You’ve now learned about some of Python’s core iterable sequence data structures, including strings, lists, and tuples. These structures share many similarities, but there are some key differences between them. Data professionals must often decide which data structures work best to solve a particular problem, so understanding the relationship between these classes can help you make informed decisions in your work. This reading is a guide to the similarities and differences between strings, lists, and tuples.\n",
    "\n",
    "### Strings\n",
    "**Syntax/instantiation**\n",
    "\n",
    "**Note**: The following code block is not interactive.\n",
    "\n",
    "- Single, double, or triple quotes:"
   ]
  },
  {
   "cell_type": "code",
   "execution_count": 1,
   "metadata": {},
   "outputs": [],
   "source": [
    "empty_str = ''\n",
    "my_string1 = 'minerals'\n",
    "my_string2 = \"martin\"\n",
    "my_string3 = \"\"\"\n",
    "marathon\n",
    "golfcart\n",
    "\"\"\""
   ]
  },
  {
   "cell_type": "markdown",
   "metadata": {},
   "source": [
    "**Note**: Using triple quotes to write a string over multiple lines will insert newlines (**\\n**)."
   ]
  },
  {
   "cell_type": "code",
   "execution_count": 2,
   "metadata": {},
   "outputs": [
    {
     "data": {
      "text/plain": [
       "'\\nmarathon\\ngolfcart\\n'"
      ]
     },
     "execution_count": 2,
     "metadata": {},
     "output_type": "execute_result"
    }
   ],
   "source": [
    "my_string3 = \"\"\"\n",
    "marathon\n",
    "golfcart\n",
    "\"\"\"\n",
    "\n",
    "my_string3"
   ]
  },
  {
   "cell_type": "markdown",
   "metadata": {},
   "source": [
    "- The `str()` function can be used for instantiation and conversion.\n",
    "\n",
    "**Note**: The following code block is not interactive."
   ]
  },
  {
   "cell_type": "code",
   "execution_count": 3,
   "metadata": {},
   "outputs": [],
   "source": [
    " empty_str = str()\n",
    "my_string = str(125)"
   ]
  },
  {
   "cell_type": "markdown",
   "metadata": {},
   "source": [
    "**Content**\n",
    "- Strings can contain any character—letters, numbers, punctuation marks, spaces—but everything between the opening and closing quotation marks is part of the same single string. \n",
    "\n",
    "**Mutability**\n",
    "- Strings are **immutable**. This means that once a string is created, it cannot be modified. Any operation that appears to modify a string actually creates a new string object.\n",
    "\n",
    "**Usage**\n",
    "- Strings are most commonly used to represent text data.\n",
    "\n",
    "**Methods**\n",
    "The Python **string** class comes packed with many useful methods to manipulate the data contained in strings. For more information on these methods, refer to [Common String Operations](https://docs.python.org/3/library/string.html) in the Python documentation.\n",
    "\n",
    "### Lists\n",
    "**Syntax/instantiation**\n",
    "- Brackets, with each element separated by a comma:\n",
    "\n",
    "**Note**: The following code block is not interactive."
   ]
  },
  {
   "cell_type": "code",
   "execution_count": 4,
   "metadata": {},
   "outputs": [],
   "source": [
    "empty_list = []\n",
    "my_list = [1, 2, 3, 4, 5]"
   ]
  },
  {
   "cell_type": "markdown",
   "metadata": {},
   "source": [
    "- The `list()` function can be used for instantiation and conversion. Note that this function only works on iterable data types."
   ]
  },
  {
   "cell_type": "code",
   "execution_count": 5,
   "metadata": {},
   "outputs": [
    {
     "name": "stdout",
     "output_type": "stream",
     "text": [
      "['r', 'o', 'c', 'k', 's']\n",
      "['stones', 'water', 'underground']\n"
     ]
    }
   ],
   "source": [
    "print(list('rocks'))\n",
    "print(list(('stones', 'water', 'underground')))"
   ]
  },
  {
   "cell_type": "markdown",
   "metadata": {},
   "source": [
    "**Content** \n",
    "- Lists can contain any data type, and in any combination. So, a single list can contain strings, integers, floats, tuples, dictionaries, and other lists.\n",
    "\n",
    "**Note**: The following code block is not interactive."
   ]
  },
  {
   "cell_type": "code",
   "execution_count": 6,
   "metadata": {},
   "outputs": [],
   "source": [
    "my_list = [1, 2, 1, 2, 'And through', ['and', 'through']]"
   ]
  },
  {
   "cell_type": "markdown",
   "metadata": {},
   "source": [
    "**Mutability**\n",
    "- Lists are **mutable**. This means that they can be modified after they are created."
   ]
  },
  {
   "cell_type": "code",
   "execution_count": 7,
   "metadata": {},
   "outputs": [
    {
     "name": "stdout",
     "output_type": "stream",
     "text": [
      "[5446, 2, 3]\n"
     ]
    }
   ],
   "source": [
    "num_list = [1, 2, 3]\n",
    "num_list[0] = 5446\n",
    "print(num_list)"
   ]
  },
  {
   "cell_type": "markdown",
   "metadata": {},
   "source": [
    "**Usage**\n",
    "- Lists are very versatile and therefore are used in numerous cases. Some common ones are:\n",
    "\n",
    "    - Storing collections of related items\n",
    "\n",
    "    - Storing collections of items that you want to iterate over: Because lists are ordered, you can easily iterate over their elements using a for loop or list comprehension.\n",
    "\n",
    "    - Sorting and searching: Lists can be sorted and searched, making them useful for tasks such as finding the minimum or maximum value in a list or sorting a list of items alphabetically.\n",
    "\n",
    "    - Modifying existing data: Because lists are mutable, they are useful for situations in which you know you’ll need to modify your data.\n",
    "\n",
    "    - Storing results: Lists can be used to store the results of a computation or a series of operations, making them useful in many different programming tasks.\n",
    "\n",
    "**Methods**\n",
    "- You can find methods for the Python list class in [More on Lists](https://docs.python.org/3/tutorial/datastructures.html#more-on-lists) in the Python documentation.\n",
    "\n",
    "### Tuples\n",
    "**Syntax/instantiation**\n",
    "- Parentheses, with each element separated by a comma:\n",
    "\n",
    "**Note**: The following code block is not interactive."
   ]
  },
  {
   "cell_type": "code",
   "execution_count": 8,
   "metadata": {},
   "outputs": [],
   "source": [
    "empty_tuple = ()\n",
    "my_tuple = (1, 'z')"
   ]
  },
  {
   "cell_type": "markdown",
   "metadata": {},
   "source": [
    "*Note*: When using parentheses to declare a tuple with just a single element, you must use a trailing comma. "
   ]
  },
  {
   "cell_type": "code",
   "execution_count": 9,
   "metadata": {},
   "outputs": [
    {
     "name": "stdout",
     "output_type": "stream",
     "text": [
      "<class 'int'>\n",
      "<class 'tuple'>\n"
     ]
    }
   ],
   "source": [
    "test1 = (1)\n",
    "test2 = (2,)\n",
    "\n",
    "print(type(test1))\n",
    "print(type(test2))"
   ]
  },
  {
   "cell_type": "markdown",
   "metadata": {},
   "source": [
    "- No parentheses, but each element followed by a comma (even if there’s only one element):"
   ]
  },
  {
   "cell_type": "code",
   "execution_count": 11,
   "metadata": {},
   "outputs": [
    {
     "name": "stdout",
     "output_type": "stream",
     "text": [
      "<class 'tuple'>\n",
      "<class 'tuple'>\n",
      "(2, 3)\n"
     ]
    }
   ],
   "source": [
    "tuple1 = 1,\n",
    "tuple2 = 2, 3\n",
    "\n",
    "print(type(tuple1))\n",
    "print(type(tuple2))\n",
    "print(tuple2)"
   ]
  },
  {
   "cell_type": "markdown",
   "metadata": {},
   "source": [
    "- The `tuple()` function can be used for instantiation, and for conversion of iterable data types.\n",
    "\n",
    "**Note**: The following code block is not interactive."
   ]
  },
  {
   "cell_type": "code",
   "execution_count": 12,
   "metadata": {},
   "outputs": [],
   "source": [
    "empty_tuple = tuple()\n",
    "my_tuple = tuple([1, 'z'])"
   ]
  },
  {
   "cell_type": "markdown",
   "metadata": {},
   "source": [
    "**Content** \n",
    "- Tuples can contain any data type, and in any combination. So, a single tuple can contain strings, integers, floats, lists, dictionaries, and other tuples.\n",
    "\n",
    "**Note**: The following code block is not interactive."
   ]
  },
  {
   "cell_type": "code",
   "execution_count": 13,
   "metadata": {},
   "outputs": [],
   "source": [
    "my_tuple = (1871, 'all', 'mimsy', ('were', 'the'), ['borogroves'])"
   ]
  },
  {
   "cell_type": "markdown",
   "metadata": {},
   "source": [
    "**Mutability**\n",
    "- Tuples are **immutable**. This means that once a tuple is created, it cannot be modified. \n",
    "\n",
    "**Usage**\n",
    "- Common uses of tuples include:\n",
    "\n",
    "    - Returning multiple values from a function\n",
    "\n",
    "    - Packing and unpacking sequences: You can use tuples to assign multiple values in a single line of code.\n",
    "\n",
    "    - Dictionary keys: Because tuples are immutable, they can be used as dictionary keys, whereas lists cannot. (You’ll learn more about dictionaries later.)\n",
    "\n",
    "    - Data integrity: Due to their immutable nature, tuples are a more secure way of storing data because they safeguard against accidental changes.\n",
    "\n",
    "**Methods**\n",
    "- Because tuples are built for data security, Python has only two methods that can be used on them:\n",
    "\n",
    "    - `count()` returns the number of times a specified value occurs in the tuple.\n",
    "\n",
    "    - `index()` searches the tuple for a specified value and returns the index of the first occurrence of the value.\n",
    "\n",
    "### Key takeaways\n",
    "Strings, lists, and tuples are all iterable sequential data structures that share many similarities. They also have fundamental differences that you should be aware of so you can make effective choices in your work as a data professional. When selecting a data structure, consider its manner of instantiation, content, mutability, and the use case.\n",
    "\n",
    "### Resources:\n",
    "- For more information about strings, refer to the [Introduction to Python strings documentation](https://docs.python.org/3/tutorial/introduction.html#strings)\n",
    "\n",
    "\n",
    "- For more information about lists, refer to the [Introduction to Python lists documentation](https://docs.python.org/3/tutorial/introduction.html#lists)\n",
    "\n",
    "\n",
    "- For more information about tuples, refer to the [Python Standard Data Types tuples documentation](https://docs.python.org/3/library/stdtypes.html#tuples)\n"
   ]
  }
 ],
 "metadata": {
  "kernelspec": {
   "display_name": "base",
   "language": "python",
   "name": "python3"
  },
  "language_info": {
   "codemirror_mode": {
    "name": "ipython",
    "version": 3
   },
   "file_extension": ".py",
   "mimetype": "text/x-python",
   "name": "python",
   "nbconvert_exporter": "python",
   "pygments_lexer": "ipython3",
   "version": "3.8.16"
  },
  "orig_nbformat": 4
 },
 "nbformat": 4,
 "nbformat_minor": 2
}
