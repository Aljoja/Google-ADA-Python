{
 "cells": [
  {
   "cell_type": "markdown",
   "metadata": {
    "id": "1WD1hC5MTRMS"
   },
   "source": [
    "# Activity: Structure your data "
   ]
  },
  {
   "cell_type": "markdown",
   "metadata": {
    "id": "ee31943b-274e-4c28-bce6-155cb6f4c334"
   },
   "source": [
    "## Introduction\n",
    "\n",
    "In this activity, you will practice structuring, an **exploratory data analysis (EDA)** step that helps data science projects move forward. During EDA, when working with data that contains aspects of date and time, \"datetime\" transformations are integral to better understanding the data. As a data professional, you will encounter datatime transformations quite often as you determine how to format your data to suit the problems you want to solve or the questions you want to answer. This activity gives you an opportunity to apply these skills and prepare you for future EDA, where you will need to determine how best to structure your data.\n",
    "\n",
    "In this activity, you are a member of an analytics team that provides insights to an investing firm. To help them decide which companies to invest in next, the firm wants insights into **unicorn companies**–companies that are valued at over one billion dollars.  \n",
    "\n",
    "You will work with a dataset about unicorn companies, discovering characteristics of the data, structuring the data in ways that will help you draw meaningful insights, and using visualizations to analyze the data. Ultimately, you will draw conclusions about what significant trends or patterns you find in the dataset. This will develop your skills in EDA and your knowledge of functions that allow you to structure data.\n",
    "\n",
    "\n",
    "\n"
   ]
  },
  {
   "cell_type": "markdown",
   "metadata": {
    "id": "4bb9630e-b940-4835-a389-d39def1fa848"
   },
   "source": [
    "## Step 1: Imports "
   ]
  },
  {
   "cell_type": "markdown",
   "metadata": {
    "id": "bc180686-4ae2-47ea-a292-3588ac60a820"
   },
   "source": [
    "### Import relevant libraries and modules\n",
    "\n",
    "Import the relevant Python libraries and modules that you will need to use. In this activity, you will use `pandas`, `numpy`, `seaborn`, and `matplotlib.pyplot`."
   ]
  },
  {
   "cell_type": "code",
   "execution_count": 113,
   "metadata": {
    "id": "8e7f1f2c-bbcc-4f3c-b927-b090ee8334c4"
   },
   "outputs": [],
   "source": [
    "# Import the relevant Python libraries and modules needed in this lab.\n",
    "\n",
    "### YOUR CODE HERE ###\n",
    "import pandas as pd\n",
    "import numpy as np\n",
    "import seaborn as sns\n",
    "import matplotlib.pyplot as plt\n"
   ]
  },
  {
   "cell_type": "markdown",
   "metadata": {
    "id": "7d29c6bd-f194-46bb-b794-56dc20130473"
   },
   "source": [
    "### Load the dataset into a DataFrame\n",
    "\n",
    "The dataset provided is in the form of a csv file named `Unicorn_Companies.csv` and contains a subset of data on unicorn companies. As shown in this cell, the dataset has been automatically loaded in for you. You do not need to download the .csv file, or provide more code, in order to access the dataset and proceed with this lab. Please continue with this activity by completing the following instructions."
   ]
  },
  {
   "cell_type": "code",
   "execution_count": 114,
   "metadata": {
    "id": "3bd40d44-080f-4e49-b0c2-160dedc3c4df"
   },
   "outputs": [],
   "source": [
    "# RUN THIS CELL TO IMPORT YOUR DATA.\n",
    "\n",
    "### YOUR CODE HERE ###\n",
    "companies = pd.read_csv(\"Unicorn_Companies.csv\")"
   ]
  },
  {
   "cell_type": "markdown",
   "metadata": {
    "id": "95bf39c9-d05c-4324-a40b-bc692607b61b"
   },
   "source": [
    "## Step 2: Data exploration\n"
   ]
  },
  {
   "cell_type": "markdown",
   "metadata": {
    "id": "pEeiG2M76OLH"
   },
   "source": [
    "### Display the first 10 rows of the data\n",
    "\n",
    "In this section, you will discover what the dataset entails and answer questions to guide your exploration and analysis of the data. This is an important step in EDA. \n",
    "\n",
    "To begin, display the first 10 rows of the data to get an understanding of how the dataset is structured. "
   ]
  },
  {
   "cell_type": "code",
   "execution_count": 115,
   "metadata": {
    "id": "ad5210a5-7a64-4991-b004-de818cfaf506"
   },
   "outputs": [
    {
     "data": {
      "text/html": [
       "<div>\n",
       "<style scoped>\n",
       "    .dataframe tbody tr th:only-of-type {\n",
       "        vertical-align: middle;\n",
       "    }\n",
       "\n",
       "    .dataframe tbody tr th {\n",
       "        vertical-align: top;\n",
       "    }\n",
       "\n",
       "    .dataframe thead th {\n",
       "        text-align: right;\n",
       "    }\n",
       "</style>\n",
       "<table border=\"1\" class=\"dataframe\">\n",
       "  <thead>\n",
       "    <tr style=\"text-align: right;\">\n",
       "      <th></th>\n",
       "      <th>Company</th>\n",
       "      <th>Valuation</th>\n",
       "      <th>Date Joined</th>\n",
       "      <th>Industry</th>\n",
       "      <th>City</th>\n",
       "      <th>Country/Region</th>\n",
       "      <th>Continent</th>\n",
       "      <th>Year Founded</th>\n",
       "      <th>Funding</th>\n",
       "      <th>Select Investors</th>\n",
       "    </tr>\n",
       "  </thead>\n",
       "  <tbody>\n",
       "    <tr>\n",
       "      <th>0</th>\n",
       "      <td>Bytedance</td>\n",
       "      <td>$180B</td>\n",
       "      <td>4/7/17</td>\n",
       "      <td>Artificial intelligence</td>\n",
       "      <td>Beijing</td>\n",
       "      <td>China</td>\n",
       "      <td>Asia</td>\n",
       "      <td>2012</td>\n",
       "      <td>$8B</td>\n",
       "      <td>Sequoia Capital China, SIG Asia Investments, S...</td>\n",
       "    </tr>\n",
       "    <tr>\n",
       "      <th>1</th>\n",
       "      <td>SpaceX</td>\n",
       "      <td>$100B</td>\n",
       "      <td>12/1/12</td>\n",
       "      <td>Other</td>\n",
       "      <td>Hawthorne</td>\n",
       "      <td>United States</td>\n",
       "      <td>North America</td>\n",
       "      <td>2002</td>\n",
       "      <td>$7B</td>\n",
       "      <td>Founders Fund, Draper Fisher Jurvetson, Rothen...</td>\n",
       "    </tr>\n",
       "    <tr>\n",
       "      <th>2</th>\n",
       "      <td>SHEIN</td>\n",
       "      <td>$100B</td>\n",
       "      <td>7/3/18</td>\n",
       "      <td>E-commerce &amp; direct-to-consumer</td>\n",
       "      <td>Shenzhen</td>\n",
       "      <td>China</td>\n",
       "      <td>Asia</td>\n",
       "      <td>2008</td>\n",
       "      <td>$2B</td>\n",
       "      <td>Tiger Global Management, Sequoia Capital China...</td>\n",
       "    </tr>\n",
       "    <tr>\n",
       "      <th>3</th>\n",
       "      <td>Stripe</td>\n",
       "      <td>$95B</td>\n",
       "      <td>1/23/14</td>\n",
       "      <td>Fintech</td>\n",
       "      <td>San Francisco</td>\n",
       "      <td>United States</td>\n",
       "      <td>North America</td>\n",
       "      <td>2010</td>\n",
       "      <td>$2B</td>\n",
       "      <td>Khosla Ventures, LowercaseCapital, capitalG</td>\n",
       "    </tr>\n",
       "    <tr>\n",
       "      <th>4</th>\n",
       "      <td>Klarna</td>\n",
       "      <td>$46B</td>\n",
       "      <td>12/12/11</td>\n",
       "      <td>Fintech</td>\n",
       "      <td>Stockholm</td>\n",
       "      <td>Sweden</td>\n",
       "      <td>Europe</td>\n",
       "      <td>2005</td>\n",
       "      <td>$4B</td>\n",
       "      <td>Institutional Venture Partners, Sequoia Capita...</td>\n",
       "    </tr>\n",
       "    <tr>\n",
       "      <th>5</th>\n",
       "      <td>Canva</td>\n",
       "      <td>$40B</td>\n",
       "      <td>1/8/18</td>\n",
       "      <td>Internet software &amp; services</td>\n",
       "      <td>Surry Hills</td>\n",
       "      <td>Australia</td>\n",
       "      <td>Oceania</td>\n",
       "      <td>2012</td>\n",
       "      <td>$572M</td>\n",
       "      <td>Sequoia Capital China, Blackbird Ventures, Mat...</td>\n",
       "    </tr>\n",
       "    <tr>\n",
       "      <th>6</th>\n",
       "      <td>Checkout.com</td>\n",
       "      <td>$40B</td>\n",
       "      <td>5/2/19</td>\n",
       "      <td>Fintech</td>\n",
       "      <td>London</td>\n",
       "      <td>United Kingdom</td>\n",
       "      <td>Europe</td>\n",
       "      <td>2012</td>\n",
       "      <td>$2B</td>\n",
       "      <td>Tiger Global Management, Insight Partners, DST...</td>\n",
       "    </tr>\n",
       "    <tr>\n",
       "      <th>7</th>\n",
       "      <td>Instacart</td>\n",
       "      <td>$39B</td>\n",
       "      <td>12/30/14</td>\n",
       "      <td>Supply chain, logistics, &amp; delivery</td>\n",
       "      <td>San Francisco</td>\n",
       "      <td>United States</td>\n",
       "      <td>North America</td>\n",
       "      <td>2012</td>\n",
       "      <td>$3B</td>\n",
       "      <td>Khosla Ventures, Kleiner Perkins Caufield &amp; By...</td>\n",
       "    </tr>\n",
       "    <tr>\n",
       "      <th>8</th>\n",
       "      <td>JUUL Labs</td>\n",
       "      <td>$38B</td>\n",
       "      <td>12/20/17</td>\n",
       "      <td>Consumer &amp; retail</td>\n",
       "      <td>San Francisco</td>\n",
       "      <td>United States</td>\n",
       "      <td>North America</td>\n",
       "      <td>2015</td>\n",
       "      <td>$14B</td>\n",
       "      <td>Tiger Global Management</td>\n",
       "    </tr>\n",
       "    <tr>\n",
       "      <th>9</th>\n",
       "      <td>Databricks</td>\n",
       "      <td>$38B</td>\n",
       "      <td>2/5/19</td>\n",
       "      <td>Data management &amp; analytics</td>\n",
       "      <td>San Francisco</td>\n",
       "      <td>United States</td>\n",
       "      <td>North America</td>\n",
       "      <td>2013</td>\n",
       "      <td>$3B</td>\n",
       "      <td>Andreessen Horowitz, New Enterprise Associates...</td>\n",
       "    </tr>\n",
       "  </tbody>\n",
       "</table>\n",
       "</div>"
      ],
      "text/plain": [
       "        Company Valuation Date Joined                             Industry  \\\n",
       "0     Bytedance     $180B      4/7/17              Artificial intelligence   \n",
       "1        SpaceX     $100B     12/1/12                                Other   \n",
       "2         SHEIN     $100B      7/3/18      E-commerce & direct-to-consumer   \n",
       "3        Stripe      $95B     1/23/14                              Fintech   \n",
       "4        Klarna      $46B    12/12/11                              Fintech   \n",
       "5         Canva      $40B      1/8/18         Internet software & services   \n",
       "6  Checkout.com      $40B      5/2/19                              Fintech   \n",
       "7     Instacart      $39B    12/30/14  Supply chain, logistics, & delivery   \n",
       "8     JUUL Labs      $38B    12/20/17                    Consumer & retail   \n",
       "9    Databricks      $38B      2/5/19          Data management & analytics   \n",
       "\n",
       "            City  Country/Region      Continent  Year Founded Funding  \\\n",
       "0        Beijing           China           Asia          2012     $8B   \n",
       "1      Hawthorne   United States  North America          2002     $7B   \n",
       "2       Shenzhen           China           Asia          2008     $2B   \n",
       "3  San Francisco   United States  North America          2010     $2B   \n",
       "4      Stockholm          Sweden         Europe          2005     $4B   \n",
       "5    Surry Hills       Australia        Oceania          2012   $572M   \n",
       "6         London  United Kingdom         Europe          2012     $2B   \n",
       "7  San Francisco   United States  North America          2012     $3B   \n",
       "8  San Francisco   United States  North America          2015    $14B   \n",
       "9  San Francisco   United States  North America          2013     $3B   \n",
       "\n",
       "                                    Select Investors  \n",
       "0  Sequoia Capital China, SIG Asia Investments, S...  \n",
       "1  Founders Fund, Draper Fisher Jurvetson, Rothen...  \n",
       "2  Tiger Global Management, Sequoia Capital China...  \n",
       "3        Khosla Ventures, LowercaseCapital, capitalG  \n",
       "4  Institutional Venture Partners, Sequoia Capita...  \n",
       "5  Sequoia Capital China, Blackbird Ventures, Mat...  \n",
       "6  Tiger Global Management, Insight Partners, DST...  \n",
       "7  Khosla Ventures, Kleiner Perkins Caufield & By...  \n",
       "8                            Tiger Global Management  \n",
       "9  Andreessen Horowitz, New Enterprise Associates...  "
      ]
     },
     "execution_count": 115,
     "metadata": {},
     "output_type": "execute_result"
    }
   ],
   "source": [
    "# Display the first 10 rows of the data.\n",
    "\n",
    "### YOUR CODE HERE ###\n",
    "companies.head(10)\n"
   ]
  },
  {
   "cell_type": "markdown",
   "metadata": {
    "id": "49881dfd-4532-424f-9729-f5378d984df0",
    "jp-MarkdownHeadingCollapsed": true,
    "tags": []
   },
   "source": [
    "<details>\n",
    "  <summary><h4><strong>Hint 1</strong></h4></summary>\n",
    "\n",
    "Refer to [the content about exploratory data analysis in Python](https://www.coursera.org/learn/go-beyond-the-numbers-translate-data-into-insight/lecture/kfl9b/find-stories-using-the-six-exploratory-data-analysis-practices).\n",
    "\n",
    "</details>"
   ]
  },
  {
   "cell_type": "markdown",
   "metadata": {
    "id": "k2QxFOi9HW1Q",
    "jp-MarkdownHeadingCollapsed": true,
    "tags": []
   },
   "source": [
    "<details>\n",
    "  <summary><h4><strong>Hint 2</strong></h4></summary>\n",
    "\n",
    "Use the function in the `pandas` library that allows you to get a specific number of rows from the top of a DataFrame.\n",
    " \n",
    "\n",
    "</details>"
   ]
  },
  {
   "cell_type": "markdown",
   "metadata": {
    "id": "ptkclWFzHjHv",
    "jp-MarkdownHeadingCollapsed": true,
    "tags": []
   },
   "source": [
    "<details>\n",
    "  <summary><h4><strong>Hint 3</strong></h4></summary>\n",
    "\n",
    "  Call the `head()` function from the `pandas` library and pass in the number of rows you want from the top of the DataFrame.\n",
    "\n",
    "</details>"
   ]
  },
  {
   "cell_type": "markdown",
   "metadata": {
    "id": "e31095a6-5526-42d3-b1c0-b77c1f8b3852"
   },
   "source": [
    "### Identify the number of rows and columns\n",
    "\n",
    "Identify the number of rows and columns in the dataset. This will help you get a sense of how much data you are working with."
   ]
  },
  {
   "cell_type": "code",
   "execution_count": 116,
   "metadata": {
    "id": "df3c71a1-2519-4c50-86c2-63902a534d27"
   },
   "outputs": [
    {
     "data": {
      "text/plain": [
       "(1074, 10)"
      ]
     },
     "execution_count": 116,
     "metadata": {},
     "output_type": "execute_result"
    }
   ],
   "source": [
    "# Identify the number of rows and columns in the dataset.\n",
    "\n",
    "### YOUR CODE HERE ###\n",
    "companies.shape\n",
    "\n"
   ]
  },
  {
   "cell_type": "markdown",
   "metadata": {
    "id": "-BS8MzFiu2hD",
    "jp-MarkdownHeadingCollapsed": true,
    "tags": []
   },
   "source": [
    "<details>\n",
    "  <summary><h4><strong>Hint 1</strong></h4></summary>\n",
    "\n",
    "Refer to [the content about exploratory data analysis in Python](https://www.coursera.org/learn/go-beyond-the-numbers-translate-data-into-insight/lecture/kfl9b/find-stories-using-the-six-exploratory-data-analysis-practices).\n",
    "\n",
    "</details>"
   ]
  },
  {
   "cell_type": "markdown",
   "metadata": {
    "id": "WtQIWoeMu2hE",
    "jp-MarkdownHeadingCollapsed": true,
    "tags": []
   },
   "source": [
    "<details>\n",
    "  <summary><h4><strong>Hint 2</strong></h4></summary>\n",
    "\n",
    "Use the property that DataFrames in `pandas` have to display the number of rows and the number of columns as a tuple.\n",
    " \n",
    "\n",
    "</details>"
   ]
  },
  {
   "cell_type": "markdown",
   "metadata": {
    "id": "f0cMU_Mqu2hF",
    "jp-MarkdownHeadingCollapsed": true,
    "tags": []
   },
   "source": [
    "<details>\n",
    "  <summary><h4><strong>Hint 3</strong></h4></summary>\n",
    "\n",
    "The `shape` property that DataFrames have can help.\n",
    "\n",
    "</details>"
   ]
  },
  {
   "cell_type": "markdown",
   "metadata": {
    "id": "4c2998a8-f864-43eb-a2d5-64845ebc805c"
   },
   "source": [
    "**Question:** How many rows and columns are in the dataset? How many unicorn companies are there? How many aspects are shown for each company?\n"
   ]
  },
  {
   "cell_type": "markdown",
   "metadata": {
    "id": "I814R8oVz0f8"
   },
   "source": [
    "[Write your response here. Double-click (or enter) to edit.]"
   ]
  },
  {
   "cell_type": "markdown",
   "metadata": {
    "id": "H_ot-KEQ_YAH"
   },
   "source": [
    "### Check for duplicates in the data"
   ]
  },
  {
   "cell_type": "code",
   "execution_count": 117,
   "metadata": {
    "id": "3eT0fgc__MY9"
   },
   "outputs": [
    {
     "data": {
      "text/plain": [
       "(1074, 10)"
      ]
     },
     "execution_count": 117,
     "metadata": {},
     "output_type": "execute_result"
    }
   ],
   "source": [
    "# Check for duplicates.\n",
    "\n",
    "### YOUR CODE HERE ###\n",
    "companies.drop_duplicates().shape"
   ]
  },
  {
   "cell_type": "markdown",
   "metadata": {
    "id": "5XLziTHPAZkn",
    "jp-MarkdownHeadingCollapsed": true,
    "tags": []
   },
   "source": [
    "<details>\n",
    "  <summary><h4><strong>Hint 1</strong></h4></summary>\n",
    "\n",
    "Refer to [the content about exploratory data analysis in Python](https://www.coursera.org/learn/go-beyond-the-numbers-translate-data-into-insight/lecture/kfl9b/find-stories-using-the-six-exploratory-data-analysis-practices).\n",
    "\n",
    "</details>"
   ]
  },
  {
   "cell_type": "markdown",
   "metadata": {
    "id": "zYuUTbHgAZkp",
    "jp-MarkdownHeadingCollapsed": true,
    "tags": []
   },
   "source": [
    "<details>\n",
    "  <summary><h4><strong>Hint 2</strong></h4></summary>\n",
    "\n",
    "Use the function in `pandas` that can be called on a DataFrame to return the same DataFrame but with duplicates removed.\n",
    "\n",
    "Use property that DataFrames in `pandas` have that to display the number of rows and columns as a tuple.\n",
    " \n",
    "</details>"
   ]
  },
  {
   "cell_type": "markdown",
   "metadata": {
    "id": "oi-zzNBGAZkp",
    "jp-MarkdownHeadingCollapsed": true,
    "tags": []
   },
   "source": [
    "<details>\n",
    "  <summary><h4><strong>Hint 3</strong></h4></summary>\n",
    "\n",
    "Call the `drop_duplicates()` function on `companies`, followed by calling the `shape` property. \n",
    "\n",
    "Compare the shape that is returned from this to the original shape of `companies`, which you identified previously. \n",
    "\n",
    "</details>"
   ]
  },
  {
   "cell_type": "markdown",
   "metadata": {
    "id": "-6S3zT-l_ydL"
   },
   "source": [
    "**Question:** Based on the preceding output, are there any duplicates in the dataset?\n"
   ]
  },
  {
   "cell_type": "markdown",
   "metadata": {
    "id": "QqXNXWRQz1mh"
   },
   "source": [
    "No duplicates in the data"
   ]
  },
  {
   "cell_type": "markdown",
   "metadata": {
    "id": "fgD6IfeBsNW8"
   },
   "source": [
    "### Display the data types of the columns \n",
    "\n",
    "Knowing the data types of the columns is helpful because it indicates what types of analysis and aggregation can be done, how a column can be transformed to suit specific tasks, and so on. Display the data types of the columns. "
   ]
  },
  {
   "cell_type": "code",
   "execution_count": 118,
   "metadata": {
    "id": "PjO2hGK2r8vN"
   },
   "outputs": [
    {
     "data": {
      "text/plain": [
       "Company             object\n",
       "Valuation           object\n",
       "Date Joined         object\n",
       "Industry            object\n",
       "City                object\n",
       "Country/Region      object\n",
       "Continent           object\n",
       "Year Founded         int64\n",
       "Funding             object\n",
       "Select Investors    object\n",
       "dtype: object"
      ]
     },
     "execution_count": 118,
     "metadata": {},
     "output_type": "execute_result"
    }
   ],
   "source": [
    "# Display the data types of the columns.\n",
    "\n",
    "### YOUR CODE HERE ###\n",
    "companies.dtypes"
   ]
  },
  {
   "cell_type": "markdown",
   "metadata": {
    "id": "rDrbzQlhkB5F",
    "jp-MarkdownHeadingCollapsed": true,
    "tags": []
   },
   "source": [
    "<details>\n",
    "  <summary><h4><strong>Hint 1</strong></h4></summary>\n",
    "\n",
    "Refer to [the content about exploratory data analysis in Python](https://www.coursera.org/learn/go-beyond-the-numbers-translate-data-into-insight/lecture/kfl9b/find-stories-using-the-six-exploratory-data-analysis-practices).\n",
    "\n",
    "</details>"
   ]
  },
  {
   "cell_type": "markdown",
   "metadata": {
    "id": "iBciSHO2kB5H",
    "jp-MarkdownHeadingCollapsed": true,
    "tags": []
   },
   "source": [
    "<details>\n",
    "  <summary><h4><strong>Hint 2</strong></h4></summary>\n",
    "\n",
    "Use the property that DataFrames in `pandas` have to display the data types of the columns in the specified DataFrame.\n",
    " \n",
    "\n",
    "</details>"
   ]
  },
  {
   "cell_type": "markdown",
   "metadata": {
    "id": "kyq_H95zkB5I",
    "jp-MarkdownHeadingCollapsed": true,
    "tags": []
   },
   "source": [
    "<details>\n",
    "  <summary><h4><strong>Hint 3</strong></h4></summary>\n",
    "\n",
    "The `dtypes` property that DataFrames have can help.\n",
    "\n",
    "</details>"
   ]
  },
  {
   "cell_type": "markdown",
   "metadata": {
    "id": "bd6573bc-2adb-410e-a85c-d6d5886d51bf"
   },
   "source": [
    "**Question:** What do you notice about the data types of the columns in the dataset?\n"
   ]
  },
  {
   "cell_type": "markdown",
   "metadata": {
    "id": "NmHY4cWIz2n5"
   },
   "source": [
    "There is only one numeric column"
   ]
  },
  {
   "cell_type": "markdown",
   "metadata": {
    "id": "cAfmH6tjHYiq"
   },
   "source": [
    "**Question:** How would you sort this dataset in order to get insights about when the companies were founded? Then, how would you arrange the data from companies that were founded the earliest to companies that were founded the latest?\n"
   ]
  },
  {
   "cell_type": "markdown",
   "metadata": {
    "id": "8DtM8u4Iz3TA"
   },
   "source": [
    "I would use the 'Year Founded' numeric column and sort that one"
   ]
  },
  {
   "cell_type": "markdown",
   "metadata": {
    "id": "1ZqTQXEN9WbW"
   },
   "source": [
    "### Sort the data\n",
    "\n",
    "In this section, you will continue your exploratory data analysis by structuring the data. This is an important step in EDA, as it allows you to glean valuable and interesting insights about the data afterwards.\n",
    "\n",
    "To begin, sort the data so that you can get insights about when the companies were founded. Consider whether it would make sense to sort in ascending or descending order based on what you would like to find."
   ]
  },
  {
   "cell_type": "code",
   "execution_count": 119,
   "metadata": {
    "id": "sjWPuI-xKDat"
   },
   "outputs": [
    {
     "data": {
      "text/html": [
       "<div>\n",
       "<style scoped>\n",
       "    .dataframe tbody tr th:only-of-type {\n",
       "        vertical-align: middle;\n",
       "    }\n",
       "\n",
       "    .dataframe tbody tr th {\n",
       "        vertical-align: top;\n",
       "    }\n",
       "\n",
       "    .dataframe thead th {\n",
       "        text-align: right;\n",
       "    }\n",
       "</style>\n",
       "<table border=\"1\" class=\"dataframe\">\n",
       "  <thead>\n",
       "    <tr style=\"text-align: right;\">\n",
       "      <th></th>\n",
       "      <th>Company</th>\n",
       "      <th>Valuation</th>\n",
       "      <th>Date Joined</th>\n",
       "      <th>Industry</th>\n",
       "      <th>City</th>\n",
       "      <th>Country/Region</th>\n",
       "      <th>Continent</th>\n",
       "      <th>Year Founded</th>\n",
       "      <th>Funding</th>\n",
       "      <th>Select Investors</th>\n",
       "    </tr>\n",
       "  </thead>\n",
       "  <tbody>\n",
       "    <tr>\n",
       "      <th>189</th>\n",
       "      <td>Otto Bock HealthCare</td>\n",
       "      <td>$4B</td>\n",
       "      <td>6/24/17</td>\n",
       "      <td>Health</td>\n",
       "      <td>Duderstadt</td>\n",
       "      <td>Germany</td>\n",
       "      <td>Europe</td>\n",
       "      <td>1919</td>\n",
       "      <td>$0M</td>\n",
       "      <td>EQT Partners</td>\n",
       "    </tr>\n",
       "    <tr>\n",
       "      <th>373</th>\n",
       "      <td>Promasidor Holdings</td>\n",
       "      <td>$2B</td>\n",
       "      <td>11/8/16</td>\n",
       "      <td>Consumer &amp; retail</td>\n",
       "      <td>Bryanston</td>\n",
       "      <td>South Africa</td>\n",
       "      <td>Asia</td>\n",
       "      <td>1979</td>\n",
       "      <td>$556M</td>\n",
       "      <td>IFC, Ajinomoto</td>\n",
       "    </tr>\n",
       "    <tr>\n",
       "      <th>699</th>\n",
       "      <td>Five Star Business Finance</td>\n",
       "      <td>$1B</td>\n",
       "      <td>3/26/21</td>\n",
       "      <td>Other</td>\n",
       "      <td>Chennai</td>\n",
       "      <td>India</td>\n",
       "      <td>Asia</td>\n",
       "      <td>1984</td>\n",
       "      <td>$456M</td>\n",
       "      <td>Sequoia Capital India, Tiger Global Management...</td>\n",
       "    </tr>\n",
       "    <tr>\n",
       "      <th>840</th>\n",
       "      <td>Radius Payment Solutions</td>\n",
       "      <td>$1B</td>\n",
       "      <td>11/27/17</td>\n",
       "      <td>Fintech</td>\n",
       "      <td>Crewe</td>\n",
       "      <td>United Kingdom</td>\n",
       "      <td>Europe</td>\n",
       "      <td>1990</td>\n",
       "      <td>$200M</td>\n",
       "      <td>Inflexion Private Equity</td>\n",
       "    </tr>\n",
       "    <tr>\n",
       "      <th>11</th>\n",
       "      <td>Epic Games</td>\n",
       "      <td>$32B</td>\n",
       "      <td>10/26/18</td>\n",
       "      <td>Other</td>\n",
       "      <td>Cary</td>\n",
       "      <td>United States</td>\n",
       "      <td>North America</td>\n",
       "      <td>1991</td>\n",
       "      <td>$7B</td>\n",
       "      <td>Tencent Holdings, KKR, Smash Ventures</td>\n",
       "    </tr>\n",
       "    <tr>\n",
       "      <th>377</th>\n",
       "      <td>BGL Group</td>\n",
       "      <td>$2B</td>\n",
       "      <td>11/24/17</td>\n",
       "      <td>Fintech</td>\n",
       "      <td>Peterborough</td>\n",
       "      <td>United Kingdom</td>\n",
       "      <td>Europe</td>\n",
       "      <td>1992</td>\n",
       "      <td>$696M</td>\n",
       "      <td>CPP Investment Board</td>\n",
       "    </tr>\n",
       "    <tr>\n",
       "      <th>1043</th>\n",
       "      <td>Thirty Madison</td>\n",
       "      <td>$1B</td>\n",
       "      <td>6/2/21</td>\n",
       "      <td>Health</td>\n",
       "      <td>New York</td>\n",
       "      <td>United States</td>\n",
       "      <td>North America</td>\n",
       "      <td>1993</td>\n",
       "      <td>$210M</td>\n",
       "      <td>Northzone Ventures, Maveron, Johnson &amp; Johnson...</td>\n",
       "    </tr>\n",
       "    <tr>\n",
       "      <th>129</th>\n",
       "      <td>Howden Group Holdings</td>\n",
       "      <td>$5B</td>\n",
       "      <td>9/29/20</td>\n",
       "      <td>Other</td>\n",
       "      <td>London</td>\n",
       "      <td>United Kingdom</td>\n",
       "      <td>Europe</td>\n",
       "      <td>1994</td>\n",
       "      <td>$187M</td>\n",
       "      <td>General Atlantic, 3i Group, Huagai Capital</td>\n",
       "    </tr>\n",
       "    <tr>\n",
       "      <th>118</th>\n",
       "      <td>Vice Media</td>\n",
       "      <td>$6B</td>\n",
       "      <td>4/2/11</td>\n",
       "      <td>Internet software &amp; services</td>\n",
       "      <td>Brooklyn</td>\n",
       "      <td>United States</td>\n",
       "      <td>North America</td>\n",
       "      <td>1994</td>\n",
       "      <td>$1B</td>\n",
       "      <td>Technology Crossover Ventures, A&amp;E Television ...</td>\n",
       "    </tr>\n",
       "    <tr>\n",
       "      <th>360</th>\n",
       "      <td>Carzone</td>\n",
       "      <td>$2B</td>\n",
       "      <td>3/1/19</td>\n",
       "      <td>E-commerce &amp; direct-to-consumer</td>\n",
       "      <td>Jiangsu</td>\n",
       "      <td>China</td>\n",
       "      <td>Asia</td>\n",
       "      <td>1995</td>\n",
       "      <td>$946M</td>\n",
       "      <td>Alibaba Group,Co-Stone Venture Capital, Buhuo ...</td>\n",
       "    </tr>\n",
       "  </tbody>\n",
       "</table>\n",
       "</div>"
      ],
      "text/plain": [
       "                         Company Valuation Date Joined  \\\n",
       "189         Otto Bock HealthCare       $4B     6/24/17   \n",
       "373          Promasidor Holdings       $2B     11/8/16   \n",
       "699   Five Star Business Finance       $1B     3/26/21   \n",
       "840     Radius Payment Solutions       $1B    11/27/17   \n",
       "11                    Epic Games      $32B    10/26/18   \n",
       "377                    BGL Group       $2B    11/24/17   \n",
       "1043              Thirty Madison       $1B      6/2/21   \n",
       "129        Howden Group Holdings       $5B     9/29/20   \n",
       "118                   Vice Media       $6B      4/2/11   \n",
       "360                      Carzone       $2B      3/1/19   \n",
       "\n",
       "                             Industry          City  Country/Region  \\\n",
       "189                            Health    Duderstadt         Germany   \n",
       "373                 Consumer & retail     Bryanston    South Africa   \n",
       "699                             Other       Chennai           India   \n",
       "840                           Fintech         Crewe  United Kingdom   \n",
       "11                              Other          Cary   United States   \n",
       "377                           Fintech  Peterborough  United Kingdom   \n",
       "1043                           Health      New York   United States   \n",
       "129                             Other        London  United Kingdom   \n",
       "118      Internet software & services      Brooklyn   United States   \n",
       "360   E-commerce & direct-to-consumer       Jiangsu           China   \n",
       "\n",
       "          Continent  Year Founded Funding  \\\n",
       "189          Europe          1919     $0M   \n",
       "373            Asia          1979   $556M   \n",
       "699            Asia          1984   $456M   \n",
       "840          Europe          1990   $200M   \n",
       "11    North America          1991     $7B   \n",
       "377          Europe          1992   $696M   \n",
       "1043  North America          1993   $210M   \n",
       "129          Europe          1994   $187M   \n",
       "118   North America          1994     $1B   \n",
       "360            Asia          1995   $946M   \n",
       "\n",
       "                                       Select Investors  \n",
       "189                                        EQT Partners  \n",
       "373                                      IFC, Ajinomoto  \n",
       "699   Sequoia Capital India, Tiger Global Management...  \n",
       "840                            Inflexion Private Equity  \n",
       "11                Tencent Holdings, KKR, Smash Ventures  \n",
       "377                                CPP Investment Board  \n",
       "1043  Northzone Ventures, Maveron, Johnson & Johnson...  \n",
       "129          General Atlantic, 3i Group, Huagai Capital  \n",
       "118   Technology Crossover Ventures, A&E Television ...  \n",
       "360   Alibaba Group,Co-Stone Venture Capital, Buhuo ...  "
      ]
     },
     "execution_count": 119,
     "metadata": {},
     "output_type": "execute_result"
    }
   ],
   "source": [
    "# Sort `companies` and display the first 10 rows of the resulting DataFrame.\n",
    "\n",
    "### YOUR CODE HERE ###\n",
    "companies.sort_values(by='Year Founded', ascending=True).head(10)\n",
    "\n"
   ]
  },
  {
   "cell_type": "markdown",
   "metadata": {
    "id": "STL5Rkc9AbZE",
    "jp-MarkdownHeadingCollapsed": true,
    "tags": []
   },
   "source": [
    "<details>\n",
    "  <summary><h4><strong>Hint 1</strong></h4></summary>\n",
    "\n",
    "Refer to [the content about exploratory data analysis in Python](https://www.coursera.org/learn/go-beyond-the-numbers-translate-data-into-insight/lecture/kfl9b/find-stories-using-the-six-exploratory-data-analysis-practices).\n",
    "\n",
    "</details>"
   ]
  },
  {
   "cell_type": "markdown",
   "metadata": {
    "id": "_n2d45jEAbZF",
    "jp-MarkdownHeadingCollapsed": true,
    "tags": []
   },
   "source": [
    "<details>\n",
    "  <summary><h4><strong>Hint 2</strong></h4></summary>\n",
    "\n",
    "Use the function in `pandas` that allows you to sort a DataFrame along a specific column.\n",
    "\n",
    "</details>"
   ]
  },
  {
   "cell_type": "markdown",
   "metadata": {
    "id": "0glE3KHwAbZG",
    "jp-MarkdownHeadingCollapsed": true,
    "tags": []
   },
   "source": [
    "<details>\n",
    "  <summary><h4><strong>Hint 3</strong></h4></summary>\n",
    "\n",
    "Use the `sort_values()` function, specifying the `by` parameter as the name of the column that you want to sort by and the `ascending` parameter as needed. Note that by default, `ascending` is set to `True`. If you want to sort in descending order, specify the `ascending` parameter as `False`.\n",
    "\n",
    "</details>"
   ]
  },
  {
   "cell_type": "markdown",
   "metadata": {
    "id": "quCKIWjC_PZr"
   },
   "source": [
    "**Question:** What do you observe from the sorting that you performed?\n"
   ]
  },
  {
   "cell_type": "markdown",
   "metadata": {
    "id": "xyvJZK9Bz4M0"
   },
   "source": [
    "[Write your response here. Double-click (or enter) to edit.]"
   ]
  },
  {
   "cell_type": "markdown",
   "metadata": {
    "id": "k9_pE69KFqUR"
   },
   "source": [
    "**Question:** Which library would you use to get the count of each distinct value in the `Year Founded` column? \n"
   ]
  },
  {
   "cell_type": "markdown",
   "metadata": {
    "id": "Cn0rtLX_z5BN"
   },
   "source": [
    "[Write your response here. Double-click (or enter) to edit.]"
   ]
  },
  {
   "cell_type": "markdown",
   "metadata": {
    "id": "95ICE9dXHWZY"
   },
   "source": [
    "### Determine the number of companies founded each year\n",
    "\n",
    "Find out how many companies in this dataset were founded each year. Make sure to display each unique `Year Founded` that occurs in the dataset, and for each year, a number that represents how many companies were founded then."
   ]
  },
  {
   "cell_type": "code",
   "execution_count": 120,
   "metadata": {
    "id": "_ZzafpsJ_VQ_"
   },
   "outputs": [
    {
     "data": {
      "text/plain": [
       "2015    155\n",
       "2016    110\n",
       "2014    109\n",
       "2012     95\n",
       "2013     87\n",
       "2011     82\n",
       "2017     74\n",
       "2018     61\n",
       "2019     45\n",
       "2010     40\n",
       "2009     34\n",
       "2008     27\n",
       "2020     25\n",
       "2007     24\n",
       "2006     15\n",
       "2005     14\n",
       "2021     11\n",
       "2000     11\n",
       "2001      9\n",
       "1999      8\n",
       "2004      8\n",
       "2003      8\n",
       "1998      5\n",
       "2002      4\n",
       "1994      2\n",
       "1995      2\n",
       "1996      1\n",
       "1919      1\n",
       "1991      1\n",
       "1979      1\n",
       "1992      1\n",
       "1984      1\n",
       "1990      1\n",
       "1993      1\n",
       "1997      1\n",
       "Name: Year Founded, dtype: int64"
      ]
     },
     "execution_count": 120,
     "metadata": {},
     "output_type": "execute_result"
    }
   ],
   "source": [
    "# Display each unique year that occurs in the dataset\n",
    "# along with the number of companies that were founded in each unique year.\n",
    "\n",
    "### YOUR CODE HERE ###\n",
    "companies['Year Founded'].value_counts()"
   ]
  },
  {
   "cell_type": "markdown",
   "metadata": {
    "id": "nBZVJaWxJsKm",
    "jp-MarkdownHeadingCollapsed": true,
    "tags": []
   },
   "source": [
    "<details>\n",
    "  <summary><h4><strong>Hint 1</strong></h4></summary>\n",
    "\n",
    "Refer to [the content about exploratory data analysis in Python](https://www.coursera.org/learn/go-beyond-the-numbers-translate-data-into-insight/lecture/kfl9b/find-stories-using-the-six-exploratory-data-analysis-practices).\n",
    "\n",
    "</details>"
   ]
  },
  {
   "cell_type": "markdown",
   "metadata": {
    "id": "eGDXI8HcJsKo",
    "jp-MarkdownHeadingCollapsed": true,
    "tags": []
   },
   "source": [
    "<details>\n",
    "  <summary><h4><strong>Hint 2</strong></h4></summary>\n",
    "\n",
    "Use the function in `pandas` that allows you to get the count for each distinct value in a specific column.\n",
    "\n",
    "</details>"
   ]
  },
  {
   "cell_type": "markdown",
   "metadata": {
    "id": "cDwQaEkwJsKo",
    "jp-MarkdownHeadingCollapsed": true,
    "tags": []
   },
   "source": [
    "<details>\n",
    "  <summary><h4><strong>Hint 3</strong></h4></summary>\n",
    "\n",
    "Use the `value_counts()` function on the `Year Founded` column. \n",
    "\n",
    "</details>"
   ]
  },
  {
   "cell_type": "markdown",
   "metadata": {
    "id": "rpMFZQqpJYW6"
   },
   "source": [
    "**Question:** What do you observe from the counts of the unique `Year Founded` values in the dataset?\n"
   ]
  },
  {
   "cell_type": "markdown",
   "metadata": {
    "id": "i8luOA1Oz6DJ"
   },
   "source": [
    "That most companies were founded in recent years"
   ]
  },
  {
   "cell_type": "markdown",
   "metadata": {},
   "source": [
    "**Question:** What kind of graph represents the counts of samples based on a particular feature?\n"
   ]
  },
  {
   "cell_type": "markdown",
   "metadata": {},
   "source": [
    "Histogram"
   ]
  },
  {
   "cell_type": "markdown",
   "metadata": {},
   "source": [
    "Plot a histogram of the `Year Founded` feature."
   ]
  },
  {
   "cell_type": "code",
   "execution_count": 121,
   "metadata": {},
   "outputs": [
    {
     "data": {
      "text/plain": [
       "Text(0.5, 1.0, 'Companies Year Founded Histogram')"
      ]
     },
     "execution_count": 121,
     "metadata": {},
     "output_type": "execute_result"
    },
    {
     "data": {
      "image/png": "[encoded data removed]",
      "text/plain": [
       "<Figure size 640x480 with 1 Axes>"
      ]
     },
     "metadata": {},
     "output_type": "display_data"
    }
   ],
   "source": [
    "# Plot a histogram of the Year Founded feature.\n",
    "### YOUR CODE HERE ###\n",
    "ax = sns.histplot(companies['Year Founded'])\n",
    "plt.title('Companies Year Founded Histogram')"
   ]
  },
  {
   "cell_type": "markdown",
   "metadata": {
    "id": "XzKBLKpOMerv"
   },
   "source": [
    "**Question:** If you want to compare when one company joined unicorn status to when another company joined, how would you transform the `Date Joined` column to gain that insight? To answer this question, notice the data types.\n"
   ]
  },
  {
   "cell_type": "markdown",
   "metadata": {
    "id": "RqFif2yaz6pU"
   },
   "source": [
    "I would convert tha 'Date Joined' to datetime"
   ]
  },
  {
   "cell_type": "markdown",
   "metadata": {
    "id": "94b53c7f-54d8-4d1a-ae07-7c28c2ab8f5b",
    "tags": []
   },
   "source": [
    "### Convert the `Date Joined` column to datetime\n",
    "\n",
    "Convert the `Date Joined` column to datetime. This will split each value into year, month, and date components, allowing you to later gain insights about when a company gained unicorn status with respect to each component."
   ]
  },
  {
   "cell_type": "code",
   "execution_count": 122,
   "metadata": {
    "id": "afe607c8-9dd7-47c3-9fc8-88772f015e2b"
   },
   "outputs": [
    {
     "data": {
      "text/plain": [
       "Company                     object\n",
       "Valuation                   object\n",
       "Date Joined         datetime64[ns]\n",
       "Industry                    object\n",
       "City                        object\n",
       "Country/Region              object\n",
       "Continent                   object\n",
       "Year Founded                 int64\n",
       "Funding                     object\n",
       "Select Investors            object\n",
       "dtype: object"
      ]
     },
     "execution_count": 122,
     "metadata": {},
     "output_type": "execute_result"
    }
   ],
   "source": [
    "# Convert the `Date Joined` column to datetime.\n",
    "# Update the column with the converted values.\n",
    "\n",
    "### YOUR CODE HERE ###\n",
    "companies['Date Joined'] = pd.to_datetime(companies['Date Joined'])\n",
    "\n",
    "\n",
    "\n",
    "# Display the data types of the columns in `companies`\n",
    "# to confirm that the update actually took place.\n",
    "\n",
    "### YOUR CODE HERE ###\n",
    "companies.dtypes\n"
   ]
  },
  {
   "cell_type": "markdown",
   "metadata": {
    "id": "ouhV8x_wP5uJ",
    "jp-MarkdownHeadingCollapsed": true,
    "tags": []
   },
   "source": [
    "<details>\n",
    "  <summary><h4><strong>Hint 1</strong></h4></summary>\n",
    "\n",
    "Refer to [the content about datetime transformations in Python](https://www.coursera.org/learn/go-beyond-the-numbers-translate-data-into-insight/supplement/ZcM4z/reference-guide-datetime-manipulation).\n",
    "\n",
    "</details>"
   ]
  },
  {
   "cell_type": "markdown",
   "metadata": {
    "id": "mhYA5bwIP5uL",
    "jp-MarkdownHeadingCollapsed": true,
    "tags": []
   },
   "source": [
    "<details>\n",
    "  <summary><h4><strong>Hint 2</strong></h4></summary>\n",
    "\n",
    "Use the function in `pandas` that allows you to convert an object to datetime format.\n",
    "\n",
    "Use the property that DataFrames have that can be used to display the data types of the columns.\n",
    "\n",
    "</details>"
   ]
  },
  {
   "cell_type": "markdown",
   "metadata": {
    "id": "Y9ipjYInP5uM",
    "jp-MarkdownHeadingCollapsed": true,
    "tags": []
   },
   "source": [
    "<details>\n",
    "  <summary><h4><strong>Hint 3</strong></h4></summary>\n",
    "\n",
    "Use the `to_datetime()` function on the `Date Joined` column.\n",
    "\n",
    "Make sure to update the column by reassigning to the result of the function call mentioned previously.\n",
    "\n",
    "Use the `dtypes` property to get the data types of the columns in `companies`.\n",
    "\n",
    "</details>"
   ]
  },
  {
   "cell_type": "markdown",
   "metadata": {
    "id": "8Gl70TvPVDsO"
   },
   "source": [
    "**Question:** How would you obtain the names of the months when companies gained unicorn status?\n"
   ]
  },
  {
   "cell_type": "markdown",
   "metadata": {
    "id": "C3Dp7ePXz8Cz"
   },
   "source": [
    "Using `companies['Date Joined'].dt.month_name()`"
   ]
  },
  {
   "cell_type": "markdown",
   "metadata": {
    "id": "ae351a97-926e-40af-91e2-4bd12a5bf888",
    "tags": []
   },
   "source": [
    "### Create a `Month Joined` column\n",
    "\n",
    "Obtain the names of the months when companies gained unicorn status, and use the result to create a `Month Joined` column. "
   ]
  },
  {
   "cell_type": "code",
   "execution_count": 123,
   "metadata": {
    "id": "PFBo2wdQU6U1"
   },
   "outputs": [
    {
     "data": {
      "text/html": [
       "<div>\n",
       "<style scoped>\n",
       "    .dataframe tbody tr th:only-of-type {\n",
       "        vertical-align: middle;\n",
       "    }\n",
       "\n",
       "    .dataframe tbody tr th {\n",
       "        vertical-align: top;\n",
       "    }\n",
       "\n",
       "    .dataframe thead th {\n",
       "        text-align: right;\n",
       "    }\n",
       "</style>\n",
       "<table border=\"1\" class=\"dataframe\">\n",
       "  <thead>\n",
       "    <tr style=\"text-align: right;\">\n",
       "      <th></th>\n",
       "      <th>Company</th>\n",
       "      <th>Valuation</th>\n",
       "      <th>Date Joined</th>\n",
       "      <th>Industry</th>\n",
       "      <th>City</th>\n",
       "      <th>Country/Region</th>\n",
       "      <th>Continent</th>\n",
       "      <th>Year Founded</th>\n",
       "      <th>Funding</th>\n",
       "      <th>Select Investors</th>\n",
       "      <th>Month Joined</th>\n",
       "    </tr>\n",
       "  </thead>\n",
       "  <tbody>\n",
       "    <tr>\n",
       "      <th>0</th>\n",
       "      <td>Bytedance</td>\n",
       "      <td>$180B</td>\n",
       "      <td>2017-04-07</td>\n",
       "      <td>Artificial intelligence</td>\n",
       "      <td>Beijing</td>\n",
       "      <td>China</td>\n",
       "      <td>Asia</td>\n",
       "      <td>2012</td>\n",
       "      <td>$8B</td>\n",
       "      <td>Sequoia Capital China, SIG Asia Investments, S...</td>\n",
       "      <td>4</td>\n",
       "    </tr>\n",
       "    <tr>\n",
       "      <th>1</th>\n",
       "      <td>SpaceX</td>\n",
       "      <td>$100B</td>\n",
       "      <td>2012-12-01</td>\n",
       "      <td>Other</td>\n",
       "      <td>Hawthorne</td>\n",
       "      <td>United States</td>\n",
       "      <td>North America</td>\n",
       "      <td>2002</td>\n",
       "      <td>$7B</td>\n",
       "      <td>Founders Fund, Draper Fisher Jurvetson, Rothen...</td>\n",
       "      <td>12</td>\n",
       "    </tr>\n",
       "    <tr>\n",
       "      <th>2</th>\n",
       "      <td>SHEIN</td>\n",
       "      <td>$100B</td>\n",
       "      <td>2018-07-03</td>\n",
       "      <td>E-commerce &amp; direct-to-consumer</td>\n",
       "      <td>Shenzhen</td>\n",
       "      <td>China</td>\n",
       "      <td>Asia</td>\n",
       "      <td>2008</td>\n",
       "      <td>$2B</td>\n",
       "      <td>Tiger Global Management, Sequoia Capital China...</td>\n",
       "      <td>7</td>\n",
       "    </tr>\n",
       "    <tr>\n",
       "      <th>3</th>\n",
       "      <td>Stripe</td>\n",
       "      <td>$95B</td>\n",
       "      <td>2014-01-23</td>\n",
       "      <td>Fintech</td>\n",
       "      <td>San Francisco</td>\n",
       "      <td>United States</td>\n",
       "      <td>North America</td>\n",
       "      <td>2010</td>\n",
       "      <td>$2B</td>\n",
       "      <td>Khosla Ventures, LowercaseCapital, capitalG</td>\n",
       "      <td>1</td>\n",
       "    </tr>\n",
       "    <tr>\n",
       "      <th>4</th>\n",
       "      <td>Klarna</td>\n",
       "      <td>$46B</td>\n",
       "      <td>2011-12-12</td>\n",
       "      <td>Fintech</td>\n",
       "      <td>Stockholm</td>\n",
       "      <td>Sweden</td>\n",
       "      <td>Europe</td>\n",
       "      <td>2005</td>\n",
       "      <td>$4B</td>\n",
       "      <td>Institutional Venture Partners, Sequoia Capita...</td>\n",
       "      <td>12</td>\n",
       "    </tr>\n",
       "  </tbody>\n",
       "</table>\n",
       "</div>"
      ],
      "text/plain": [
       "     Company Valuation Date Joined                         Industry  \\\n",
       "0  Bytedance     $180B  2017-04-07          Artificial intelligence   \n",
       "1     SpaceX     $100B  2012-12-01                            Other   \n",
       "2      SHEIN     $100B  2018-07-03  E-commerce & direct-to-consumer   \n",
       "3     Stripe      $95B  2014-01-23                          Fintech   \n",
       "4     Klarna      $46B  2011-12-12                          Fintech   \n",
       "\n",
       "            City Country/Region      Continent  Year Founded Funding  \\\n",
       "0        Beijing          China           Asia          2012     $8B   \n",
       "1      Hawthorne  United States  North America          2002     $7B   \n",
       "2       Shenzhen          China           Asia          2008     $2B   \n",
       "3  San Francisco  United States  North America          2010     $2B   \n",
       "4      Stockholm         Sweden         Europe          2005     $4B   \n",
       "\n",
       "                                    Select Investors  Month Joined  \n",
       "0  Sequoia Capital China, SIG Asia Investments, S...             4  \n",
       "1  Founders Fund, Draper Fisher Jurvetson, Rothen...            12  \n",
       "2  Tiger Global Management, Sequoia Capital China...             7  \n",
       "3        Khosla Ventures, LowercaseCapital, capitalG             1  \n",
       "4  Institutional Venture Partners, Sequoia Capita...            12  "
      ]
     },
     "execution_count": 123,
     "metadata": {},
     "output_type": "execute_result"
    }
   ],
   "source": [
    "# Obtain the names of the months when companies gained unicorn status.\n",
    "# Use the result to create a `Month Joined` column.\n",
    "\n",
    "### YOUR CODE HERE ###\n",
    "companies['Month Joined'] = companies['Date Joined'].dt.month\n",
    "\n",
    "\n",
    "\n",
    "# Display the first few rows of `companies`\n",
    "# to confirm that the new column did get added.\n",
    "\n",
    "### YOUR CODE HERE ###\n",
    "companies.head()"
   ]
  },
  {
   "cell_type": "markdown",
   "metadata": {
    "id": "uqVlpsSDYeR1",
    "jp-MarkdownHeadingCollapsed": true,
    "tags": []
   },
   "source": [
    "<details>\n",
    "  <summary><h4><strong>Hint 1</strong></h4></summary>\n",
    "\n",
    "Refer to [the content about extracting components from datetime objects in Python](https://www.coursera.org/learn/go-beyond-the-numbers-translate-data-into-insight/lecture/Vh13u/use-structuring-methods-to-establish-order-in-your-dataset).\n",
    "\n",
    "</details>"
   ]
  },
  {
   "cell_type": "markdown",
   "metadata": {
    "id": "VB0tiRB9YeR3",
    "jp-MarkdownHeadingCollapsed": true,
    "tags": []
   },
   "source": [
    "<details>\n",
    "  <summary><h4><strong>Hint 2</strong></h4></summary>\n",
    "\n",
    "Use the function in the `pandas` library that contains datetime strings in order to extract the month names.\n",
    "\n",
    "Use the function in the `pandas` library that allows you to display the first few rows of a DataFrame.\n",
    "\n",
    "</details>"
   ]
  },
  {
   "cell_type": "markdown",
   "metadata": {
    "id": "B3o5tPHPYeR5",
    "jp-MarkdownHeadingCollapsed": true,
    "tags": []
   },
   "source": [
    "<details>\n",
    "  <summary><h4><strong>Hint 3</strong></h4></summary>\n",
    "\n",
    "Use the `dt.month_name()` function on the `Date Joined` column.\n",
    "\n",
    "Use a pair of square brackets to create a new column. Make sure to specify the name of the new column inside the brackets and assign the column to the result of calling the function mentioned previously.\n",
    "\n",
    "Use the `head()` function to display the first few rows of a DataFrame.\n",
    "\n",
    "</details>"
   ]
  },
  {
   "cell_type": "markdown",
   "metadata": {
    "id": "W81zWrCE8_Ye"
   },
   "source": [
    "**Question:** Using the 'Date Joined' column, how would you determine how many years it took for companies to reach unicorn status?\n"
   ]
  },
  {
   "cell_type": "markdown",
   "metadata": {
    "id": "uNbv1cAnz9NA"
   },
   "source": [
    "[Write your response here. Double-click (or enter) to edit.]"
   ]
  },
  {
   "cell_type": "markdown",
   "metadata": {
    "id": "6xTyzHiM8_Yf",
    "tags": []
   },
   "source": [
    "### Create a `Years To Join` column\n",
    "\n",
    "Determine how many years it took for companies to reach unicorn status, and use the result to create a `Years To Join` column. Adding this to the dataset can help you answer questions you may have about this aspect of the companies."
   ]
  },
  {
   "cell_type": "code",
   "execution_count": 124,
   "metadata": {
    "id": "9zK8Q7-v-Bx1"
   },
   "outputs": [
    {
     "data": {
      "text/html": [
       "<div>\n",
       "<style scoped>\n",
       "    .dataframe tbody tr th:only-of-type {\n",
       "        vertical-align: middle;\n",
       "    }\n",
       "\n",
       "    .dataframe tbody tr th {\n",
       "        vertical-align: top;\n",
       "    }\n",
       "\n",
       "    .dataframe thead th {\n",
       "        text-align: right;\n",
       "    }\n",
       "</style>\n",
       "<table border=\"1\" class=\"dataframe\">\n",
       "  <thead>\n",
       "    <tr style=\"text-align: right;\">\n",
       "      <th></th>\n",
       "      <th>Company</th>\n",
       "      <th>Valuation</th>\n",
       "      <th>Date Joined</th>\n",
       "      <th>Industry</th>\n",
       "      <th>City</th>\n",
       "      <th>Country/Region</th>\n",
       "      <th>Continent</th>\n",
       "      <th>Year Founded</th>\n",
       "      <th>Funding</th>\n",
       "      <th>Select Investors</th>\n",
       "      <th>Month Joined</th>\n",
       "      <th>Years To Join</th>\n",
       "    </tr>\n",
       "  </thead>\n",
       "  <tbody>\n",
       "    <tr>\n",
       "      <th>0</th>\n",
       "      <td>Bytedance</td>\n",
       "      <td>$180B</td>\n",
       "      <td>2017-04-07</td>\n",
       "      <td>Artificial intelligence</td>\n",
       "      <td>Beijing</td>\n",
       "      <td>China</td>\n",
       "      <td>Asia</td>\n",
       "      <td>2012</td>\n",
       "      <td>$8B</td>\n",
       "      <td>Sequoia Capital China, SIG Asia Investments, S...</td>\n",
       "      <td>4</td>\n",
       "      <td>5</td>\n",
       "    </tr>\n",
       "    <tr>\n",
       "      <th>1</th>\n",
       "      <td>SpaceX</td>\n",
       "      <td>$100B</td>\n",
       "      <td>2012-12-01</td>\n",
       "      <td>Other</td>\n",
       "      <td>Hawthorne</td>\n",
       "      <td>United States</td>\n",
       "      <td>North America</td>\n",
       "      <td>2002</td>\n",
       "      <td>$7B</td>\n",
       "      <td>Founders Fund, Draper Fisher Jurvetson, Rothen...</td>\n",
       "      <td>12</td>\n",
       "      <td>10</td>\n",
       "    </tr>\n",
       "    <tr>\n",
       "      <th>2</th>\n",
       "      <td>SHEIN</td>\n",
       "      <td>$100B</td>\n",
       "      <td>2018-07-03</td>\n",
       "      <td>E-commerce &amp; direct-to-consumer</td>\n",
       "      <td>Shenzhen</td>\n",
       "      <td>China</td>\n",
       "      <td>Asia</td>\n",
       "      <td>2008</td>\n",
       "      <td>$2B</td>\n",
       "      <td>Tiger Global Management, Sequoia Capital China...</td>\n",
       "      <td>7</td>\n",
       "      <td>10</td>\n",
       "    </tr>\n",
       "    <tr>\n",
       "      <th>3</th>\n",
       "      <td>Stripe</td>\n",
       "      <td>$95B</td>\n",
       "      <td>2014-01-23</td>\n",
       "      <td>Fintech</td>\n",
       "      <td>San Francisco</td>\n",
       "      <td>United States</td>\n",
       "      <td>North America</td>\n",
       "      <td>2010</td>\n",
       "      <td>$2B</td>\n",
       "      <td>Khosla Ventures, LowercaseCapital, capitalG</td>\n",
       "      <td>1</td>\n",
       "      <td>4</td>\n",
       "    </tr>\n",
       "    <tr>\n",
       "      <th>4</th>\n",
       "      <td>Klarna</td>\n",
       "      <td>$46B</td>\n",
       "      <td>2011-12-12</td>\n",
       "      <td>Fintech</td>\n",
       "      <td>Stockholm</td>\n",
       "      <td>Sweden</td>\n",
       "      <td>Europe</td>\n",
       "      <td>2005</td>\n",
       "      <td>$4B</td>\n",
       "      <td>Institutional Venture Partners, Sequoia Capita...</td>\n",
       "      <td>12</td>\n",
       "      <td>6</td>\n",
       "    </tr>\n",
       "  </tbody>\n",
       "</table>\n",
       "</div>"
      ],
      "text/plain": [
       "     Company Valuation Date Joined                         Industry  \\\n",
       "0  Bytedance     $180B  2017-04-07          Artificial intelligence   \n",
       "1     SpaceX     $100B  2012-12-01                            Other   \n",
       "2      SHEIN     $100B  2018-07-03  E-commerce & direct-to-consumer   \n",
       "3     Stripe      $95B  2014-01-23                          Fintech   \n",
       "4     Klarna      $46B  2011-12-12                          Fintech   \n",
       "\n",
       "            City Country/Region      Continent  Year Founded Funding  \\\n",
       "0        Beijing          China           Asia          2012     $8B   \n",
       "1      Hawthorne  United States  North America          2002     $7B   \n",
       "2       Shenzhen          China           Asia          2008     $2B   \n",
       "3  San Francisco  United States  North America          2010     $2B   \n",
       "4      Stockholm         Sweden         Europe          2005     $4B   \n",
       "\n",
       "                                    Select Investors  Month Joined  \\\n",
       "0  Sequoia Capital China, SIG Asia Investments, S...             4   \n",
       "1  Founders Fund, Draper Fisher Jurvetson, Rothen...            12   \n",
       "2  Tiger Global Management, Sequoia Capital China...             7   \n",
       "3        Khosla Ventures, LowercaseCapital, capitalG             1   \n",
       "4  Institutional Venture Partners, Sequoia Capita...            12   \n",
       "\n",
       "   Years To Join  \n",
       "0              5  \n",
       "1             10  \n",
       "2             10  \n",
       "3              4  \n",
       "4              6  "
      ]
     },
     "execution_count": 124,
     "metadata": {},
     "output_type": "execute_result"
    }
   ],
   "source": [
    "# Determine how many years it took for companies to reach unicorn status.\n",
    "# Use the result to create a `Years To Join` column.\n",
    "\n",
    "### YOUR CODE HERE ###\n",
    "companies['Years To Join'] = companies['Date Joined'].dt.year - companies['Year Founded']\n",
    "\n",
    "\n",
    "\n",
    "# Display the first few rows of `companies`\n",
    "# to confirm that the new column did get added.\n",
    "\n",
    "### YOUR CODE HERE ###\n",
    "companies.head()\n"
   ]
  },
  {
   "cell_type": "markdown",
   "metadata": {
    "id": "ruKtgVdWCPxU",
    "jp-MarkdownHeadingCollapsed": true,
    "tags": []
   },
   "source": [
    "<details>\n",
    "  <summary><h4><strong>Hint 1</strong></h4></summary>\n",
    "\n",
    "Refer to [the content about extracting components from datetime objects in Python](https://www.coursera.org/learn/go-beyond-the-numbers-translate-data-into-insight/lecture/Vh13u/use-structuring-methods-to-establish-order-in-your-dataset).\n",
    "\n",
    "</details>"
   ]
  },
  {
   "cell_type": "markdown",
   "metadata": {
    "id": "1BuXj5ClCPxW",
    "jp-MarkdownHeadingCollapsed": true,
    "tags": []
   },
   "source": [
    "<details>\n",
    "  <summary><h4><strong>Hint 2</strong></h4></summary>\n",
    "\n",
    "Use the property in the `pandas` library that contains datetime strings in order to extract the year components.\n",
    "\n",
    "Use the function in the `pandas` library that allows you to display the first few rows of a DataFrame.\n",
    "\n",
    "</details>"
   ]
  },
  {
   "cell_type": "markdown",
   "metadata": {
    "id": "QOTFxOzDCPxY",
    "jp-MarkdownHeadingCollapsed": true,
    "tags": []
   },
   "source": [
    "<details>\n",
    "  <summary><h4><strong>Hint 3</strong></h4></summary>\n",
    "\n",
    "Use the `dt.year` property on the `Date Joined` column to obtain the years that companies became unicorns.\n",
    "\n",
    "Obtain the arithmetic difference elementwise between two series in `pandas` by using the subtraction operator.  \n",
    "\n",
    "Use a pair of square brackets to create a new column. Make sure to specify the name of the new column inside the brackets and assign the column to the result of calling the function mentioned previously.\n",
    "\n",
    "Use the `head()` function can to display the first few rows of a DataFrame.\n",
    "\n",
    "</details>"
   ]
  },
  {
   "cell_type": "markdown",
   "metadata": {
    "id": "98YFM1o4-VQ_"
   },
   "source": [
    "**Question:** Which year would you like to gain more insight on with respect when companies attained unicorn status, and why?\n"
   ]
  },
  {
   "cell_type": "markdown",
   "metadata": {
    "id": "hRT_vGZhz-Ij"
   },
   "source": [
    "2021 as it is the most recent year data is available"
   ]
  },
  {
   "cell_type": "markdown",
   "metadata": {
    "id": "nx-WbHfLCdTd"
   },
   "source": [
    "### Gain more insight on a specific year\n",
    "\n",
    "To gain more insight on the year of that interests you, filter the dataset by that year and save the resulting subset into a new variable. "
   ]
  },
  {
   "cell_type": "code",
   "execution_count": 125,
   "metadata": {
    "id": "5FnSS5fBEUY-"
   },
   "outputs": [
    {
     "data": {
      "text/html": [
       "<div>\n",
       "<style scoped>\n",
       "    .dataframe tbody tr th:only-of-type {\n",
       "        vertical-align: middle;\n",
       "    }\n",
       "\n",
       "    .dataframe tbody tr th {\n",
       "        vertical-align: top;\n",
       "    }\n",
       "\n",
       "    .dataframe thead th {\n",
       "        text-align: right;\n",
       "    }\n",
       "</style>\n",
       "<table border=\"1\" class=\"dataframe\">\n",
       "  <thead>\n",
       "    <tr style=\"text-align: right;\">\n",
       "      <th></th>\n",
       "      <th>Company</th>\n",
       "      <th>Valuation</th>\n",
       "      <th>Date Joined</th>\n",
       "      <th>Industry</th>\n",
       "      <th>City</th>\n",
       "      <th>Country/Region</th>\n",
       "      <th>Continent</th>\n",
       "      <th>Year Founded</th>\n",
       "      <th>Funding</th>\n",
       "      <th>Select Investors</th>\n",
       "      <th>Month Joined</th>\n",
       "      <th>Years To Join</th>\n",
       "    </tr>\n",
       "  </thead>\n",
       "  <tbody>\n",
       "    <tr>\n",
       "      <th>12</th>\n",
       "      <td>FTX</td>\n",
       "      <td>$32B</td>\n",
       "      <td>2021-07-20</td>\n",
       "      <td>Fintech</td>\n",
       "      <td>NaN</td>\n",
       "      <td>Bahamas</td>\n",
       "      <td>North America</td>\n",
       "      <td>2018</td>\n",
       "      <td>$2B</td>\n",
       "      <td>Sequoia Capital, Thoma Bravo, Softbank</td>\n",
       "      <td>7</td>\n",
       "      <td>3</td>\n",
       "    </tr>\n",
       "    <tr>\n",
       "      <th>16</th>\n",
       "      <td>J&amp;T Express</td>\n",
       "      <td>$20B</td>\n",
       "      <td>2021-04-07</td>\n",
       "      <td>Supply chain, logistics, &amp; delivery</td>\n",
       "      <td>Jakarta</td>\n",
       "      <td>Indonesia</td>\n",
       "      <td>Asia</td>\n",
       "      <td>2015</td>\n",
       "      <td>$5B</td>\n",
       "      <td>Hillhouse Capital Management, Boyu Capital, Se...</td>\n",
       "      <td>4</td>\n",
       "      <td>6</td>\n",
       "    </tr>\n",
       "    <tr>\n",
       "      <th>24</th>\n",
       "      <td>Blockchain.com</td>\n",
       "      <td>$14B</td>\n",
       "      <td>2021-02-17</td>\n",
       "      <td>Fintech</td>\n",
       "      <td>London</td>\n",
       "      <td>United Kingdom</td>\n",
       "      <td>Europe</td>\n",
       "      <td>2011</td>\n",
       "      <td>$490M</td>\n",
       "      <td>Lightspeed Venture Partners, Google Ventures, ...</td>\n",
       "      <td>2</td>\n",
       "      <td>10</td>\n",
       "    </tr>\n",
       "    <tr>\n",
       "      <th>27</th>\n",
       "      <td>OpenSea</td>\n",
       "      <td>$13B</td>\n",
       "      <td>2021-07-20</td>\n",
       "      <td>E-commerce &amp; direct-to-consumer</td>\n",
       "      <td>New York</td>\n",
       "      <td>United States</td>\n",
       "      <td>North America</td>\n",
       "      <td>2017</td>\n",
       "      <td>$427M</td>\n",
       "      <td>Andreessen Horowitz, Thirty Five Ventures, Sou...</td>\n",
       "      <td>7</td>\n",
       "      <td>4</td>\n",
       "    </tr>\n",
       "    <tr>\n",
       "      <th>34</th>\n",
       "      <td>Getir</td>\n",
       "      <td>$12B</td>\n",
       "      <td>2021-03-26</td>\n",
       "      <td>E-commerce &amp; direct-to-consumer</td>\n",
       "      <td>Istanbul</td>\n",
       "      <td>Turkey</td>\n",
       "      <td>Europe</td>\n",
       "      <td>2015</td>\n",
       "      <td>$2B</td>\n",
       "      <td>Tiger Global Management, Sequoia Capital, Revo...</td>\n",
       "      <td>3</td>\n",
       "      <td>6</td>\n",
       "    </tr>\n",
       "  </tbody>\n",
       "</table>\n",
       "</div>"
      ],
      "text/plain": [
       "           Company Valuation Date Joined                             Industry  \\\n",
       "12             FTX      $32B  2021-07-20                              Fintech   \n",
       "16     J&T Express      $20B  2021-04-07  Supply chain, logistics, & delivery   \n",
       "24  Blockchain.com      $14B  2021-02-17                              Fintech   \n",
       "27         OpenSea      $13B  2021-07-20      E-commerce & direct-to-consumer   \n",
       "34           Getir      $12B  2021-03-26      E-commerce & direct-to-consumer   \n",
       "\n",
       "        City  Country/Region      Continent  Year Founded Funding  \\\n",
       "12       NaN         Bahamas  North America          2018     $2B   \n",
       "16   Jakarta       Indonesia           Asia          2015     $5B   \n",
       "24    London  United Kingdom         Europe          2011   $490M   \n",
       "27  New York   United States  North America          2017   $427M   \n",
       "34  Istanbul          Turkey         Europe          2015     $2B   \n",
       "\n",
       "                                     Select Investors  Month Joined  \\\n",
       "12             Sequoia Capital, Thoma Bravo, Softbank             7   \n",
       "16  Hillhouse Capital Management, Boyu Capital, Se...             4   \n",
       "24  Lightspeed Venture Partners, Google Ventures, ...             2   \n",
       "27  Andreessen Horowitz, Thirty Five Ventures, Sou...             7   \n",
       "34  Tiger Global Management, Sequoia Capital, Revo...             3   \n",
       "\n",
       "    Years To Join  \n",
       "12              3  \n",
       "16              6  \n",
       "24             10  \n",
       "27              4  \n",
       "34              6  "
      ]
     },
     "execution_count": 125,
     "metadata": {},
     "output_type": "execute_result"
    }
   ],
   "source": [
    "# Filter dataset by a year of your interest (in terms of when companies reached unicorn status).\n",
    "# Save the resulting subset in a new variable. \n",
    "\n",
    "### YOUR CODE HERE ###\n",
    "\n",
    "companies2021 = companies[companies[\"Date Joined\"].dt.year == 2021]\n",
    "\n",
    "\n",
    "# Display the first few rows of the subset to confirm that it was created.\n",
    "\n",
    "### YOUR CODE HERE ###\n",
    "companies2021.head()\n"
   ]
  },
  {
   "cell_type": "markdown",
   "metadata": {
    "id": "9SSCM6ZLHcKA",
    "jp-MarkdownHeadingCollapsed": true,
    "tags": []
   },
   "source": [
    "<details>\n",
    "  <summary><h4><strong>Hint 1</strong></h4></summary>\n",
    "\n",
    "Refer to [the content about structuring data in Python](https://www.coursera.org/learn/go-beyond-the-numbers-translate-data-into-insight/lecture/Vh13u/use-structuring-methods-to-establish-order-in-your-dataset).\n",
    "\n",
    "</details>"
   ]
  },
  {
   "cell_type": "markdown",
   "metadata": {
    "id": "UmyyfKj3HcKC",
    "jp-MarkdownHeadingCollapsed": true,
    "tags": []
   },
   "source": [
    "<details>\n",
    "  <summary><h4><strong>Hint 2</strong></h4></summary>\n",
    "\n",
    "Use the property in the `pandas` library that contains datetime strings in order to extract the year components.\n",
    "\n",
    "Use square brackets to filter a DataFrame in order get a subset of the data. Make sure to specify an appropriate condition inside those brackets. The condition should convey which year you want to filter by. The rows that meet the condition are the rows that will be selected.\n",
    "\n",
    "Use the function in the `pandas` library that allows you to display the first few rows of a DataFrame.\n",
    "\n",
    "</details>"
   ]
  },
  {
   "cell_type": "markdown",
   "metadata": {
    "id": "3NylFsIDHcKD",
    "jp-MarkdownHeadingCollapsed": true,
    "tags": []
   },
   "source": [
    "<details>\n",
    "  <summary><h4><strong>Hint 3</strong></h4></summary>\n",
    "\n",
    "Use the `dt.year` property on the `Date Joined` column to obtain the years that companies became unicorns.\n",
    "\n",
    "Make sure to create a new variable and assign it to the subset. \n",
    "\n",
    "Use the `head()` function to display the first few rows of a DataFrame.\n",
    "\n",
    "</details>"
   ]
  },
  {
   "cell_type": "markdown",
   "metadata": {
    "id": "xP7aPBulLnRA"
   },
   "source": [
    "**Question:** Using a time interval, how could you observe trends in the companies that became unicorns in one year?\n"
   ]
  },
  {
   "cell_type": "markdown",
   "metadata": {
    "id": "1LDyIGmtz_Tc"
   },
   "source": [
    "[Write your response here. Double-click (or enter) to edit.]"
   ]
  },
  {
   "cell_type": "markdown",
   "metadata": {
    "id": "xMeC4PjILkAP"
   },
   "source": [
    "### Observe trends over time\n",
    "\n",
    "Implement the structuring approach that you have identified to observe trends over time in the companies that became unicorns for the year that interests you."
   ]
  },
  {
   "cell_type": "code",
   "execution_count": 126,
   "metadata": {
    "id": "RTPw3cRqPUI3"
   },
   "outputs": [
    {
     "data": {
      "text/html": [
       "<div>\n",
       "<style scoped>\n",
       "    .dataframe tbody tr th:only-of-type {\n",
       "        vertical-align: middle;\n",
       "    }\n",
       "\n",
       "    .dataframe tbody tr th {\n",
       "        vertical-align: top;\n",
       "    }\n",
       "\n",
       "    .dataframe thead th {\n",
       "        text-align: right;\n",
       "    }\n",
       "</style>\n",
       "<table border=\"1\" class=\"dataframe\">\n",
       "  <thead>\n",
       "    <tr style=\"text-align: right;\">\n",
       "      <th></th>\n",
       "      <th>Week Joined</th>\n",
       "      <th>Company Count</th>\n",
       "    </tr>\n",
       "  </thead>\n",
       "  <tbody>\n",
       "    <tr>\n",
       "      <th>0</th>\n",
       "      <td>2021-W01</td>\n",
       "      <td>12</td>\n",
       "    </tr>\n",
       "    <tr>\n",
       "      <th>1</th>\n",
       "      <td>2021-W02</td>\n",
       "      <td>9</td>\n",
       "    </tr>\n",
       "    <tr>\n",
       "      <th>2</th>\n",
       "      <td>2021-W03</td>\n",
       "      <td>5</td>\n",
       "    </tr>\n",
       "    <tr>\n",
       "      <th>3</th>\n",
       "      <td>2021-W04</td>\n",
       "      <td>8</td>\n",
       "    </tr>\n",
       "    <tr>\n",
       "      <th>4</th>\n",
       "      <td>2021-W05</td>\n",
       "      <td>4</td>\n",
       "    </tr>\n",
       "  </tbody>\n",
       "</table>\n",
       "</div>"
      ],
      "text/plain": [
       "  Week Joined  Company Count\n",
       "0    2021-W01             12\n",
       "1    2021-W02              9\n",
       "2    2021-W03              5\n",
       "3    2021-W04              8\n",
       "4    2021-W05              4"
      ]
     },
     "execution_count": 126,
     "metadata": {},
     "output_type": "execute_result"
    }
   ],
   "source": [
    "# After identifying the time interval that interests you, proceed with the following:\n",
    "# Step 1. Take the subset that you defined for the year of interest. \n",
    "#         Insert a column that contains the time interval that each data point belongs to, as needed.\n",
    "# Step 2. Group by the time interval.\n",
    "#         Aggregate by counting companies that joined per interval of that year.\n",
    "#         Save the resulting DataFrame in a new variable.\n",
    "\n",
    "### YOUR CODE HERE ###\n",
    "companies2021.insert(3, \"Week Joined\", companies2021[\"Date Joined\"].dt.strftime('%Y-W%V'), True)\n",
    "\n",
    "# Group `companies_2021` by `Week Joined`. \n",
    "# Aggregate by counting companies that joined per week of 2021.\n",
    "# Save the resulting DataFrame in a new variable.\n",
    "companies_by_week_2021 = companies2021.groupby(by=\"Week Joined\")[\"Company\"].count().reset_index().rename(columns={\"Company\":\"Company Count\"})\n",
    "\n",
    "\n",
    "# Display the first few rows of the new DataFrame to confirm that it was created\n",
    "\n",
    "### YOUR CODE HERE ###\n",
    "companies_by_week_2021.head()\n",
    "\n"
   ]
  },
  {
   "cell_type": "markdown",
   "metadata": {
    "id": "y4o-jE96cL5r",
    "jp-MarkdownHeadingCollapsed": true,
    "tags": []
   },
   "source": [
    "<details>\n",
    "  <summary><h4><strong>Hint 1</strong></h4></summary>\n",
    "\n",
    "Refer to [the content about structuring data in Python](https://www.coursera.org/learn/go-beyond-the-numbers-translate-data-into-insight/lecture/Vh13u/use-structuring-methods-to-establish-order-in-your-dataset).\n",
    "\n",
    "</details>"
   ]
  },
  {
   "cell_type": "markdown",
   "metadata": {
    "id": "KpYfJ_etcL5t",
    "jp-MarkdownHeadingCollapsed": true,
    "tags": []
   },
   "source": [
    "<details>\n",
    "  <summary><h4><strong>Hint 2</strong></h4></summary>\n",
    "\n",
    "To obtain the data in a specific periodic datetime format, call a function in the `pandas` library on a series that contains datetime strings.   \n",
    "\n",
    "Keep in mind that currently, the `Valuation` column is of data type `object` and contains `$` and `B` to indicate that each amount is in billions of dollars.\n",
    "\n",
    "Call functions in the `pandas` library to achieve the following tasks:\n",
    "  - Apply a function to each value in the series.\n",
    "  - Cast each value in the series to a specified data type.\n",
    "\n",
    "Use a pair of square brackets to access a particular column from the result of grouping a DataFrame. \n",
    "\n",
    "Use these functions in the `pandas` library to achieve the following tasks:\n",
    "- Concatenate two DataFrames together\n",
    "- Drop columns that you do not need from a DataFrame\n",
    "- Group a DataFrame by a specific column\n",
    "- Compute the average value for each group\n",
    "- Reset the index so that the column that you grouped on also appears as a column after the grouping (instead of remaining an index) \n",
    "- Rename columns in a DataFrame\n",
    "- Display the first few rows of a DataFrame\n",
    "\n",
    "</details>"
   ]
  },
  {
   "cell_type": "markdown",
   "metadata": {
    "id": "fO62guTzcL5v",
    "jp-MarkdownHeadingCollapsed": true,
    "tags": []
   },
   "source": [
    "<details>\n",
    "  <summary><h4><strong>Hint 3</strong></h4></summary>\n",
    "\n",
    "Use `dt.strftime('%Y-W%V')` on the `Date Joined` column to obtain the weeks that companies became unicorns.\n",
    "\n",
    "Use these functions in `pandas` to acheive the following tasks:\n",
    "- `groupby()` to group a DataFrame by a specific column\n",
    "- `count()` to count the number of rows that belong to each group\n",
    "- `reset_index()` to reset the index so that the column that you grouped on also appears as a column after the grouping (instead of remaining an index) \n",
    "- `rename()` to rename the columns in a DataFrame\n",
    "- `head()` to display the first few rows of a DataFrame\n",
    "\n",
    "</details>"
   ]
  },
  {
   "cell_type": "markdown",
   "metadata": {
    "id": "vAPjV24TA7lA"
   },
   "source": [
    "**Question:** How would you structure the data to observe trends in the average valuation of companies from 2020 to 2021?  "
   ]
  },
  {
   "cell_type": "markdown",
   "metadata": {
    "id": "T5-Kc-zr0AzU"
   },
   "source": [
    "[Write your response here. Double-click (or enter) to edit.]"
   ]
  },
  {
   "cell_type": "markdown",
   "metadata": {
    "id": "5vGITCLaA7lC"
   },
   "source": [
    "### Compare trends over time\n",
    "\n",
    "Implement the structuring approach that you have identified in order to compare trends over time in the average valuation of companies that became unicorns in the year you selected above and in another year of your choice. Keep in mind the data type of the `Valuation` column and what the values in that column contain currently."
   ]
  },
  {
   "cell_type": "code",
   "execution_count": 127,
   "metadata": {
    "id": "pQ3sXSbaA7lD"
   },
   "outputs": [
    {
     "data": {
      "text/html": [
       "<div>\n",
       "<style scoped>\n",
       "    .dataframe tbody tr th:only-of-type {\n",
       "        vertical-align: middle;\n",
       "    }\n",
       "\n",
       "    .dataframe tbody tr th {\n",
       "        vertical-align: top;\n",
       "    }\n",
       "\n",
       "    .dataframe thead th {\n",
       "        text-align: right;\n",
       "    }\n",
       "</style>\n",
       "<table border=\"1\" class=\"dataframe\">\n",
       "  <thead>\n",
       "    <tr style=\"text-align: right;\">\n",
       "      <th></th>\n",
       "      <th>Quarter Joined</th>\n",
       "      <th>Average Valuation</th>\n",
       "    </tr>\n",
       "  </thead>\n",
       "  <tbody>\n",
       "    <tr>\n",
       "      <th>0</th>\n",
       "      <td>2020-Q1</td>\n",
       "      <td>3.444444</td>\n",
       "    </tr>\n",
       "    <tr>\n",
       "      <th>1</th>\n",
       "      <td>2020-Q2</td>\n",
       "      <td>3.777778</td>\n",
       "    </tr>\n",
       "    <tr>\n",
       "      <th>2</th>\n",
       "      <td>2020-Q3</td>\n",
       "      <td>3.896552</td>\n",
       "    </tr>\n",
       "    <tr>\n",
       "      <th>3</th>\n",
       "      <td>2020-Q4</td>\n",
       "      <td>3.697674</td>\n",
       "    </tr>\n",
       "    <tr>\n",
       "      <th>4</th>\n",
       "      <td>2021-Q1</td>\n",
       "      <td>2.750000</td>\n",
       "    </tr>\n",
       "  </tbody>\n",
       "</table>\n",
       "</div>"
      ],
      "text/plain": [
       "  Quarter Joined  Average Valuation\n",
       "0        2020-Q1           3.444444\n",
       "1        2020-Q2           3.777778\n",
       "2        2020-Q3           3.896552\n",
       "3        2020-Q4           3.697674\n",
       "4        2021-Q1           2.750000"
      ]
     },
     "execution_count": 127,
     "metadata": {},
     "output_type": "execute_result"
    }
   ],
   "source": [
    "# After identifying the additional year and time interval of interest, proceed with the following:\n",
    "# Step 1. Filter by the additional year to create a subset that consists of companies that joined in that year.\n",
    "# Step 2. Concatenate that new subset with the subset that you defined previously.\n",
    "# Step 3. As needed, add a column that contains the time interval that each data point belongs to, \n",
    "#         in the concatenated DataFrame.\n",
    "# Step 4. Transform the `Valuation` column as needed.\n",
    "# Step 5. Group by the time interval.\n",
    "#         Aggregate by computing average valuation of companies that joined per interval of the corresponding year.\n",
    "#         Save the resulting DataFrame in a new variable.\n",
    "\n",
    "### YOUR CODE HERE ###\n",
    "# Filter by the additional year to create a subset that consists of companies that joined in that year.\n",
    "companies2020 = companies[companies[\"Date Joined\"].dt.year == 2020]\n",
    "# Concatenate that new subset with the subset that you defined previously.\n",
    "companies2020_2021 = pd.concat([companies2020, companies2021.drop(columns=\"Week Joined\")])\n",
    "# As needed, add a column that contains the time interval that each data point belongs to, in the concatenated DataFrame.\n",
    "companies2020_2021[\"Quarter Joined\"] = companies2020_2021[\"Date Joined\"].dt.to_period('Q').dt.strftime('%Y-Q%q')\n",
    "# Convert the `Valuation` column to numeric by removing `$` and `B` and casting each value to data type `float`.\n",
    "companies2020_2021[\"Valuation\"] =  companies2020_2021[\"Valuation\"].str.strip(\"$B\").astype(float)\n",
    "# Group `companies_2020_2021` by `Quarter Joined`, \n",
    "# Aggregate by computing average `Funding` of companies that joined per quarter of each year.\n",
    "# Save the resulting DataFrame in a new variable.\n",
    "companies_by_quarter_2020_2021 = companies2020_2021.groupby(by=\"Quarter Joined\")[\"Valuation\"].mean().reset_index().rename(columns={\"Valuation\":\"Average Valuation\"})\n",
    "\n",
    "# Display the first few rows of the new DataFrame to confirm that it was created.\n",
    "\n",
    "### YOUR CODE HERE ###\n",
    "companies_by_quarter_2020_2021.head()\n",
    "\n"
   ]
  },
  {
   "cell_type": "markdown",
   "metadata": {
    "id": "CJoxASljNvH6",
    "jp-MarkdownHeadingCollapsed": true,
    "tags": []
   },
   "source": [
    "\n",
    "<details>\n",
    "  <summary><h4><strong>Hint 1</strong></h4></summary>\n",
    "\n",
    "Refer to [the content about manipulating data in Python](https://www.coursera.org/learn/go-beyond-the-numbers-translate-data-into-insight/lecture/0GjvK/date-string-manipulations-with-python).\n",
    "\n",
    "</details>\n"
   ]
  },
  {
   "cell_type": "markdown",
   "metadata": {
    "id": "qoXGc_naNvH8",
    "jp-MarkdownHeadingCollapsed": true,
    "tags": []
   },
   "source": [
    "<details>\n",
    "  <summary><h4><strong>Hint 2</strong></h4></summary>\n",
    "\n",
    "To obtain the data in a specific periodic datetime format, call a function in the `pandas` library on a series that contains datetime strings.   \n",
    "\n",
    "Keep in mind that currently, the `Valuation` column is of data type `object` and contains `$` and `B` to indicate that each amount is in billions of dollars.\n",
    "\n",
    "Call functions in the `pandas` library on a series to acheive the following tasks:\n",
    "  - Apply a function to each value in the series.\n",
    "  - Cast each value in the series to a specified data type.\n",
    "\n",
    "Use a pair of square brackets to access a particular column from the result of grouping a DataFrame. \n",
    "\n",
    "These functions in the `pandas` library can help achieve the following tasks:\n",
    "- Concatenate two DataFrames together\n",
    "- Drop columns that you do not need from a DataFrame\n",
    "- Group a DataFrame by a specific column\n",
    "- Compute the average value for each group\n",
    "- Reset the index so that the column that you grouped on also appears as a column after the grouping (instead of remaining an index) \n",
    "- Rename columns in a DataFrame\n",
    "- Display the first few rows of a DataFrame\n",
    "\n",
    "</details>"
   ]
  },
  {
   "cell_type": "markdown",
   "metadata": {
    "id": "jRVnh5ZFNvH-",
    "jp-MarkdownHeadingCollapsed": true,
    "tags": []
   },
   "source": [
    "<details>\n",
    "  <summary><h4><strong>Hint 3</strong></h4></summary>\n",
    "\n",
    "Use `.dt.to_period('Q').dt.strftime('%Y-Q%q')` on the `Date Joined` column to obtain the quarters during which companies became unicorns.\n",
    "\n",
    "Convert the `Valuation` column to numeric by removing `$` and `B` and casting each value to data type `float`.\n",
    "\n",
    "Use the following functions in `pandas` to acheive the following tasks:\n",
    "- `concat` to concatenate two DataFrames together (note: this function takes in a list of DataFrames and returns a DataFrame that contains all rows from both inputs)\n",
    "- `drop()` to drop columns that you do not need from a DataFrame\n",
    "- `groupby()` to group a DataFrame by a specific column\n",
    "- `mean()` to compute the average value for each group\n",
    "- `reset_index()` to reset the index so that the column that you grouped on also appears as a column after the grouping (instead of remaining an index) \n",
    "- `rename()` to rename the columns in a DataFrame\n",
    "- `head()` to display the first few rows of a DataFrame\n",
    "\n",
    "</details>"
   ]
  },
  {
   "cell_type": "markdown",
   "metadata": {
    "id": "w_HtFyHrXVAc"
   },
   "source": [
    "## Step 3: Time-to-unicorn visualization\n",
    "\n",
    "### Visualize the time it took companies to become unicorns\n",
    "\n",
    "Using the `companies` dataset, create a box plot to visualize the distribution of how long it took companies to become unicorns, with respect to the month they joined. "
   ]
  },
  {
   "cell_type": "code",
   "execution_count": 128,
   "metadata": {
    "id": "4GT0qtPUIlzD"
   },
   "outputs": [
    {
     "name": "stdout",
     "output_type": "stream",
     "text": [
      "['January', 'February', 'March', 'April', 'May', 'June', 'July', 'August', 'September', 'October', 'November', 'December']\n"
     ]
    }
   ],
   "source": [
    "# Define a list that contains months in chronological order.\n",
    "\n",
    "### YOUR CODE HERE ###\n",
    "month_order = [\"January\", \"February\", \"March\", \"April\", \"May\", \"June\",\n",
    "               \"July\", \"August\", \"September\", \"October\", \"November\", \n",
    "               \"December\"]\n",
    "\n",
    "\n",
    "# Print out the list to confirm it is correct.\n",
    "\n",
    "### YOUR CODE HERE ###\n",
    "print(month_order)\n",
    "\n",
    "            "
   ]
  },
  {
   "cell_type": "code",
   "execution_count": 129,
   "metadata": {
    "id": "7V-NPXUCIhCT"
   },
   "outputs": [
    {
     "data": {
      "image/png": "[encoded data removed]",
      "text/plain": [
       "<Figure size 640x480 with 1 Axes>"
      ]
     },
     "metadata": {},
     "output_type": "display_data"
    }
   ],
   "source": [
    "# Create the box plot to visualize the distribution of how long it took companies to become unicorns, with respect to the month they joined.\n",
    "# Make sure the x-axis goes in chronological order by month, using the list you defined previously.\n",
    "# Plot the data from the `companies` DataFrame.\n",
    "\n",
    "### YOUR CODE HERE ###\n",
    "companies[\"Month Joined\"] = companies[\"Date Joined\"].dt.month_name()\n",
    "sns.boxplot(x=companies['Month Joined'], \n",
    "            y=companies['Years To Join'], \n",
    "            order=month_order, \n",
    "            showfliers=False)\n",
    "\n",
    "# Set the title of the plot.\n",
    "\n",
    "### YOUR CODE HERE ###\n",
    "\n",
    "plt.title('Distribution of years to become unicorn with respect to month joined')\n",
    "\n",
    "# Rotate labels on the x-axis as a way to avoid overlap in the positions of the text. \n",
    "\n",
    "### YOUR CODE HERE ###\n",
    "\n",
    "plt.xticks(rotation=45, horizontalalignment='right')\n",
    "\n",
    "# Display the plot.\n",
    "\n",
    "### YOUR CODE HERE ###\n",
    "\n",
    "plt.show()\n",
    "\n"
   ]
  },
  {
   "cell_type": "markdown",
   "metadata": {
    "id": "h87KDAzQNhJH",
    "jp-MarkdownHeadingCollapsed": true,
    "tags": []
   },
   "source": [
    "<details>\n",
    "  <summary><h4><strong>Hint 1</strong></h4></summary>\n",
    "\n",
    "Refer to [the content about creating a box plot](https://www.coursera.org/learn/go-beyond-the-numbers-translate-data-into-insight/lecture/Pf6KW/eda-structuring-with-python).\n",
    "\n",
    "</details>"
   ]
  },
  {
   "cell_type": "markdown",
   "metadata": {
    "id": "aZBJ8VOrNhJI",
    "jp-MarkdownHeadingCollapsed": true,
    "tags": []
   },
   "source": [
    "<details>\n",
    "  <summary><h4><strong>Hint 2</strong></h4></summary>\n",
    "\n",
    "Use the function in the `seaborn` library that allows you to create a box plot.\n",
    "\n",
    "Use the functions in the `matplotlib.pyplot` module that allow you to acheive the following tasks:\n",
    "- set the title of a plot\n",
    "- rotate labels on the x-axis of a plot\n",
    "- display a plot\n",
    "\n",
    "</details>"
   ]
  },
  {
   "cell_type": "markdown",
   "metadata": {
    "id": "GPdd3MfDNhJK",
    "jp-MarkdownHeadingCollapsed": true,
    "tags": []
   },
   "source": [
    "<details>\n",
    "  <summary><h4><strong>Hint 3</strong></h4></summary>\n",
    "\n",
    "Use the `boxplot()` function from `seaborn` to create a box plot, passing in the parameters `x`, `y`, `order`, and `showfliers`. To keep outliers from appearing on the box plot, set `showfliers` to `False`.\n",
    "\n",
    "Use following functions to achieve the following tasks:\n",
    "- `plt.title()` to set the title of a plot\n",
    "- `plt.xticks()` to rotate labels on the x-axis of a plot\n",
    "- pass in the parameters `rotation=45, horizontalalignment='right'`to rotate the labels by 45 degrees and align the labels to the right\n",
    "- `plt.show()` to display a plot\n",
    "\n",
    "</details>"
   ]
  },
  {
   "cell_type": "markdown",
   "metadata": {
    "id": "hJhdI_Y7LK8e"
   },
   "source": [
    "**Question:** In the preceding box plot, what do you observe about the median value for `Years To Join` for each month?\n"
   ]
  },
  {
   "cell_type": "markdown",
   "metadata": {
    "id": "rLUHSsZl0Cmt"
   },
   "source": [
    "[Write your response here. Double-click (or enter) to edit.]"
   ]
  },
  {
   "cell_type": "markdown",
   "metadata": {
    "id": "gq9Syq-Cq1zb"
   },
   "source": [
    "## Step 4: Results and evaluation\n"
   ]
  },
  {
   "cell_type": "markdown",
   "metadata": {
    "id": "10beff64-16e0-464d-93f0-03ab61f7069b",
    "tags": []
   },
   "source": [
    "### Visualize the time it took companies to reach unicorn status\n",
    "\n",
    "In this section, you will evaluate the result of structuring the data, making observations, and gaining further insights about the data. \n",
    "\n",
    "Using the `companies` dataset, create a bar plot to visualize the average number of years it took companies to reach unicorn status with respect to when they were founded. "
   ]
  },
  {
   "cell_type": "code",
   "execution_count": 139,
   "metadata": {
    "id": "1153ca76-f1e3-4fea-a2db-a5de23614abd"
   },
   "outputs": [
    {
     "name": "stderr",
     "output_type": "stream",
     "text": [
      "C:\\Users\\amurd\\AppData\\Local\\Temp\\ipykernel_11760\\2333489372.py:4: FutureWarning: \n",
      "\n",
      "The `ci` parameter is deprecated. Use `errorbar=('ci', False)` for the same effect.\n",
      "\n",
      "  sns.barplot(x = companies['Year Founded'], y = companies['Years To Join'], ci=False)\n"
     ]
    },
    {
     "data": {
      "image/png": "[encoded data removed]",
      "text/plain": [
       "<Figure size 1000x800 with 1 Axes>"
      ]
     },
     "metadata": {},
     "output_type": "display_data"
    }
   ],
   "source": [
    "# Set the size of the plot.\n",
    "plt.figure(figsize=(10, 8))\n",
    "### YOUR CODE HERE ###\n",
    "sns.barplot(x = companies['Year Founded'], y = companies['Years To Join'], ci=False)\n",
    "\n",
    "\n",
    "\n",
    "# Create bar plot to visualize the average number of years it took companies to reach unicorn status \n",
    "# with respect to when they were founded.\n",
    "# Plot data from the `companies` DataFrame.\n",
    "\n",
    "### YOUR CODE HERE ###\n",
    "\n",
    "\n",
    "\n",
    "\n",
    "# Set title\n",
    "\n",
    "### YOUR CODE HERE ###\n",
    "plt.title('Year to Join Unicorn vs Year Joined')\n",
    "\n",
    "\n",
    "\n",
    "# Set x-axis label\n",
    "\n",
    "### YOUR CODE HERE ###\n",
    "plt.xlabel('Year Founded')\n",
    "\n",
    "\n",
    "\n",
    "# Set y-axis label\n",
    "\n",
    "### YOUR CODE HERE ###\n",
    "plt.ylabel('Year yo Unicorn')\n",
    "\n",
    "\n",
    "\n",
    "# Rotate the labels on the x-axis as a way to avoid overlap in the positions of the text.  \n",
    "\n",
    "### YOUR CODE HERE ###\n",
    "plt.xticks(rotation = 45, horizontalalignment='right')\n",
    "\n",
    "\n",
    "# Display the plot.\n",
    "\n",
    "### YOUR CODE HERE ###\n",
    "plt.show()\n"
   ]
  },
  {
   "cell_type": "markdown",
   "metadata": {
    "id": "MWYLsImtOmaU",
    "jp-MarkdownHeadingCollapsed": true,
    "tags": []
   },
   "source": [
    "<details>\n",
    "  <summary><h4><strong>Hint 1</strong></h4></summary>\n",
    "\n",
    "Refer to [the content about creating a bar plot](https://www.coursera.org/learn/go-beyond-the-numbers-translate-data-into-insight/lecture/0GjvK/date-string-manipulations-with-python).\n",
    "\n",
    "</details>"
   ]
  },
  {
   "cell_type": "markdown",
   "metadata": {
    "id": "Na6eMkR8OmaW",
    "jp-MarkdownHeadingCollapsed": true,
    "tags": []
   },
   "source": [
    "<details>\n",
    "  <summary><h4><strong>Hint 2</strong></h4></summary>\n",
    "\n",
    "Use the function in the `seaborn` library that allows you to create a bar plot where the height of each bar is the average value for the corresponding category, by default.\n",
    "\n",
    "Use the functions in the `matplotlib.pyplot` module that allow you to set the size, title, x-axis label, and y-axis label of plots. In that module, there are also functions for rotating the labels on the x-axis and displaying the plot. \n",
    "\n",
    "</details>"
   ]
  },
  {
   "cell_type": "markdown",
   "metadata": {
    "id": "0x0AkrQ_OmaX",
    "jp-MarkdownHeadingCollapsed": true,
    "tags": []
   },
   "source": [
    "<details>\n",
    "  <summary><h4><strong>Hint 3</strong></h4></summary>\n",
    "\n",
    "Use the `barplot()` function from `seaborn`, passing in the parameters `x`, `y`, and `ci`. To keep confidence interval lines from appearing on the bar plot,  set `ci` to `False`.\n",
    "\n",
    "Use `plt.figure()`, passing in the `figsize` parameter to set the size of a plot.\n",
    "\n",
    "Use `plt.title()`, `plt.xlabel()`, `plt.ylabel()` to set the title, x-axis label, and y-axis label, respectively. \n",
    "\n",
    "Use `plt.xticks()` to rotate labels on the x-axis of a plot. Paass in the parameters `rotation=45, horizontalalignment='right'` to rotate the labels by 45 degrees and align the labels to the right.\n",
    "\n",
    "Use `plt.show()` to display a plot.\n",
    "\n",
    "</details>"
   ]
  },
  {
   "cell_type": "markdown",
   "metadata": {
    "id": "xDwKa-UDOmaX"
   },
   "source": [
    "**Question:** What trends do you notice in the data? Specifically, consider companies that were founded later on. How long did it take those companies to reach unicorn status?\n"
   ]
  },
  {
   "cell_type": "markdown",
   "metadata": {
    "id": "EapccSkH0Don"
   },
   "source": [
    "[Write your response here. Double-click (or enter) to edit.]"
   ]
  },
  {
   "cell_type": "markdown",
   "metadata": {
    "id": "M9iBEnnStJPJ"
   },
   "source": [
    "### Visualize the number of companies that joined per interval \n",
    "\n",
    "Using the subset of companies joined in the year of interest, grouped by the time interval of your choice, create a bar plot to visualize the number of companies that joined per interval for that year. "
   ]
  },
  {
   "cell_type": "code",
   "execution_count": 140,
   "metadata": {
    "id": "BTdJdubxplHc"
   },
   "outputs": [
    {
     "data": {
      "image/png": "[encoded data removed]",
      "text/plain": [
       "<Figure size 2000x500 with 1 Axes>"
      ]
     },
     "metadata": {},
     "output_type": "display_data"
    }
   ],
   "source": [
    "# Set the size of the plot.\n",
    "\n",
    "### YOUR CODE HERE ###\n",
    "plt.figure(figsize = (20, 5))\n",
    "\n",
    "# Create bar plot to visualize number of companies that joined per interval for the year of interest.\n",
    "\n",
    "### YOUR CODE HERE ###\n",
    "\n",
    "plt.bar(x=companies_by_week_2021['Week Joined'],height=companies_by_week_2021['Company Count'])\n",
    "plt.plot()\n",
    "\n",
    "# Set the x-axis label.\n",
    "\n",
    "### YOUR CODE HERE ###\n",
    "\n",
    "plt.xlabel(\"Week number\")\n",
    "\n",
    "# Set the y-axis label.\n",
    "\n",
    "### YOUR CODE HERE ###\n",
    "\n",
    "plt.ylabel(\"Number of companies\")\n",
    "\n",
    "# Set the title.\n",
    "\n",
    "### YOUR CODE HERE ###\n",
    "\n",
    "plt.title(\"Number of companies that became unicorns per week in 2021\")\n",
    "\n",
    "# Rotate the labels on the x-axis as a way to avoid overlap in the positions of the text.  \n",
    "\n",
    "### YOUR CODE HERE ###\n",
    "\n",
    "plt.xticks(rotation = 45, horizontalalignment='right', fontsize=8)\n",
    "\n",
    "# Display the plot.\n",
    "\n",
    "### YOUR CODE HERE ###\n",
    "\n",
    "plt.show()\n",
    "\n"
   ]
  },
  {
   "cell_type": "markdown",
   "metadata": {
    "id": "BtgkB4fVudvo",
    "jp-MarkdownHeadingCollapsed": true,
    "tags": []
   },
   "source": [
    "<details>\n",
    "  <summary><h4><strong>Hint 1</strong></h4></summary>\n",
    "\n",
    "Refer to [the content about creating a bar plot](https://www.coursera.org/learn/go-beyond-the-numbers-translate-data-into-insight/lecture/0GjvK/date-string-manipulations-with-python).\n",
    "\n",
    "</details>"
   ]
  },
  {
   "cell_type": "markdown",
   "metadata": {
    "id": "bHCMc83Nudvq",
    "jp-MarkdownHeadingCollapsed": true,
    "tags": []
   },
   "source": [
    "<details>\n",
    "  <summary><h4><strong>Hint 2</strong></h4></summary>\n",
    "\n",
    "Use the function in the `seaborn` library that allows you to create a bar plot where the height of each bar is the average value for the corresponding category, by default.\n",
    "\n",
    "Use the functions in the `matplotlib.pyplot` module that allow you to set the size, title, x-axis label, and y-axis label of plots. In that module, there are also functions for rotating the labels on the x-axis and displaying the plot. \n",
    "\n",
    "</details>"
   ]
  },
  {
   "cell_type": "markdown",
   "metadata": {
    "id": "ttH8ynAyudvr",
    "jp-MarkdownHeadingCollapsed": true,
    "tags": []
   },
   "source": [
    "<details>\n",
    "  <summary><h4><strong>Hint 3</strong></h4></summary>\n",
    "\n",
    "Use the `barplot()` function from `seaborn`, passing in the parameters `x`, `y`, and `ci`. To keep confidence interval lines from appearing on the bar plot,  set `ci` to `False`.\n",
    "\n",
    "Use `plt.figure()`, passing in the `figsize` parameter to set the size of a plot.\n",
    "\n",
    "Use `plt.title()`, `plt.xlabel()`, `plt.ylabel()` to set the title, x-axis label, and y-axis label, respectively. \n",
    "\n",
    "Use `plt.xticks()` to rotate labels on the x-axis of a plot. Paass in the parameters `rotation=45, horizontalalignment='right'` to rotate the labels by 45 degrees and align the labels to the right.\n",
    "\n",
    "Use `plt.show()` to display a plot.\n",
    "\n",
    "</details>"
   ]
  },
  {
   "cell_type": "markdown",
   "metadata": {
    "id": "NEsKdFw8sdMJ"
   },
   "source": [
    "**Question:** What do you observe from the bar plot of the number of companies that joined per interval for the year of 2021? When did the highest number of companies reach $1 billion valuation?\n",
    "\n",
    "  "
   ]
  },
  {
   "cell_type": "markdown",
   "metadata": {
    "id": "bLmFY7jR0Ewi"
   },
   "source": [
    "[Write your response here. Double-click (or enter) to edit.]"
   ]
  },
  {
   "cell_type": "markdown",
   "metadata": {
    "id": "izcgBCbZhC4w"
   },
   "source": [
    "### Visualize the average valuation over the quarters\n",
    "\n",
    "Using the subset of companies that joined in the years of interest, create a grouped bar plot to visualize the average valuation over the quarters, with two bars for each time interval. There will be two bars for each time interval. This allows you to compare quarterly values between the two years."
   ]
  },
  {
   "cell_type": "code",
   "execution_count": 141,
   "metadata": {
    "id": "IC1cFf2ci6Q6"
   },
   "outputs": [
    {
     "data": {
      "image/png": "[encoded data removed]",
      "text/plain": [
       "<Figure size 1000x500 with 1 Axes>"
      ]
     },
     "metadata": {},
     "output_type": "display_data"
    }
   ],
   "source": [
    "# Using slicing, extract the year component and the time interval that you specified, \n",
    "# and save them by adding two new columns into the subset. \n",
    "\n",
    "### YOUR CODE HERE ###\n",
    "# Using slicing, extract the year component and the time interval that you specified, \n",
    "# and save them by adding two new columns into the subset. \n",
    "\n",
    "### YOUR CODE HERE ###\n",
    "\n",
    "companies_by_quarter_2020_2021['Quarter Number'] = companies_by_quarter_2020_2021['Quarter Joined'].str[-2:]\n",
    "companies_by_quarter_2020_2021['Year Joined'] = companies_by_quarter_2020_2021['Quarter Joined'].str[:4]\n",
    "\n",
    "# Set the size of the plot.\n",
    "\n",
    "### YOUR CODE HERE ###\n",
    "\n",
    "plt.figure(figsize = (10, 5))\n",
    "\n",
    "# Create a grouped bar plot.\n",
    "\n",
    "### YOUR CODE HERE ###\n",
    "\n",
    "sns.barplot(x=companies_by_quarter_2020_2021['Quarter Number'],\n",
    "            y=companies_by_quarter_2020_2021['Average Valuation'],\n",
    "            hue=companies_by_quarter_2020_2021['Year Joined'])\n",
    "plt.plot()\n",
    "\n",
    "# Set the x-axis label.\n",
    "\n",
    "### YOUR CODE HERE ###\n",
    "\n",
    "plt.xlabel(\"Quarter number\")\n",
    "\n",
    "# Set the y-axis label.\n",
    "\n",
    "### YOUR CODE HERE ###\n",
    "\n",
    "plt.ylabel(\"Average valuation (billions of dollars)\")\n",
    "\n",
    "# Set the title.\n",
    "\n",
    "### YOUR CODE HERE ###\n",
    "\n",
    "plt.title(\"Average valuation of companies that became unicorns per quarter in 2020 vs. 2021\")\n",
    "\n",
    "# Display the plot.\n",
    "\n",
    "### YOUR CODE HERE ###\n",
    "\n",
    "plt.show()"
   ]
  },
  {
   "cell_type": "markdown",
   "metadata": {
    "id": "w0EZVbYQp34N",
    "jp-MarkdownHeadingCollapsed": true,
    "tags": []
   },
   "source": [
    "<details>\n",
    "  <summary><h4><strong>Hint 1</strong></h4></summary>\n",
    "\n",
    "Refer to [the content about creating a grouped bar plot](https://www.coursera.org/learn/go-beyond-the-numbers-translate-data-into-insight/lecture/Pf6KW/eda-structuring-with-python).\n",
    "\n",
    "</details>"
   ]
  },
  {
   "cell_type": "markdown",
   "metadata": {
    "id": "IhQ1sDxUp34O",
    "jp-MarkdownHeadingCollapsed": true,
    "tags": []
   },
   "source": [
    "<details>\n",
    "  <summary><h4><strong>Hint 2</strong></h4></summary>\n",
    "\n",
    "Use the function in the `seaborn` library that allows you to create a grouped bar plot, specifying the category and height for each bar, as well as the hue.\n",
    "\n",
    "Use the functions in the `matplotlib.pyplot` module that allow you to set the size, title, x-axis label, and y-axis label of plots. In that module, there is also a function for displaying the plot. \n",
    "\n",
    "</details>"
   ]
  },
  {
   "cell_type": "markdown",
   "metadata": {
    "id": "tH8in0r5p34P",
    "jp-MarkdownHeadingCollapsed": true,
    "tags": []
   },
   "source": [
    "<details>\n",
    "  <summary><h4><strong>Hint 3</strong></h4></summary>\n",
    "\n",
    "Use the `plt.bar()` to create the bar plot, passing in the parameters `x`, `y`, and `hue`. For the task at hand, set `hue` to the column that contains year joined. \n",
    "\n",
    "Use `plt.figure()`, passing in the `figsize` parameter to set the size of a plot.\n",
    "\n",
    "Use `plt.title()`, `plt.xlabel()`, `plt.ylabel()` to set the title, x-axis label, and y-axis label, respectively. \n",
    "\n",
    "Use `plt.show()` to display a plot.\n",
    "\n",
    "</details>"
   ]
  },
  {
   "cell_type": "markdown",
   "metadata": {
    "id": "-JSttrHR4v77"
   },
   "source": [
    "**Question:** What do you observe from the preceding grouped bar plot?\n",
    "\n",
    "  "
   ]
  },
  {
   "cell_type": "markdown",
   "metadata": {
    "id": "tJjbpUeD0GMH"
   },
   "source": [
    "[Write your response here. Double-click (or enter) to edit.]"
   ]
  },
  {
   "cell_type": "markdown",
   "metadata": {
    "id": "CmStN_ox4wSs"
   },
   "source": [
    "**Question:** Is there any bias in the data that could potentially inform your analysis?\n"
   ]
  },
  {
   "cell_type": "markdown",
   "metadata": {
    "id": "Utbk8TTF0Gji"
   },
   "source": [
    "[Write your response here. Double-click (or enter) to edit.]"
   ]
  },
  {
   "cell_type": "markdown",
   "metadata": {
    "id": "9EsEVdiGF9XP"
   },
   "source": [
    "**Question:** What potential next steps could you take with your EDA?"
   ]
  },
  {
   "cell_type": "markdown",
   "metadata": {
    "id": "nHi73JCn0HrT"
   },
   "source": [
    "[Write your response here. Double-click (or enter) to edit.]"
   ]
  },
  {
   "cell_type": "markdown",
   "metadata": {
    "id": "9qPL2qMpIF6g"
   },
   "source": [
    "**Question:** Are there any unanswered questions you have about the data? If yes, what are they?\n"
   ]
  },
  {
   "cell_type": "markdown",
   "metadata": {
    "id": "ZQ4jXw1s0H_5"
   },
   "source": [
    "[Write your response here. Double-click (or enter) to edit.]"
   ]
  },
  {
   "cell_type": "markdown",
   "metadata": {
    "id": "c77e7f0f-d2b9-4464-8a7c-9575d1e1ef9f"
   },
   "source": [
    "## Considerations"
   ]
  },
  {
   "cell_type": "markdown",
   "metadata": {
    "id": "bgpSxNeqL_gK"
   },
   "source": [
    "**What are some key takeaways that you learned from this lab?**"
   ]
  },
  {
   "cell_type": "markdown",
   "metadata": {
    "id": "nh_Uk361MCUM"
   },
   "source": [
    "[Write your response here. Double-click (or enter) to edit.]"
   ]
  },
  {
   "cell_type": "markdown",
   "metadata": {
    "id": "7KjAJnO4MDTS"
   },
   "source": [
    "**What findings would you share with others?**"
   ]
  },
  {
   "cell_type": "markdown",
   "metadata": {
    "id": "q4bQAfHzMECg"
   },
   "source": [
    "[Write your response here. Double-click (or enter) to edit.]"
   ]
  },
  {
   "cell_type": "markdown",
   "metadata": {
    "id": "r5pMz4ZHMEgL"
   },
   "source": [
    "**What recommendations would you share with stakeholders based on these findings?**"
   ]
  },
  {
   "cell_type": "markdown",
   "metadata": {
    "id": "2XrpKf0XMGWD"
   },
   "source": [
    "[Write your response here. Double-click (or enter) to edit.]"
   ]
  },
  {
   "cell_type": "markdown",
   "metadata": {
    "id": "R9sAADZgr-YI"
   },
   "source": [
    "**References**\n",
    "\n",
    "Bhat, M.A. (2022, March).[*Unicorn Companies*](https://www.kaggle.com/datasets/mysarahmadbhat/unicorn-companies). \n",
    "\n"
   ]
  },
  {
   "cell_type": "markdown",
   "metadata": {},
   "source": [
    "**Congratulations!** You've completed this lab. However, you may not notice a green check mark next to this item on Coursera's platform. Please continue your progress regardless of the check mark. Just click on the \"save\" icon at the top of this notebook to ensure your work has been logged."
   ]
  }
 ],
 "metadata": {
  "colab": {
   "collapsed_sections": [],
   "provenance": [
    {
     "file_id": "15yNL9B__b83dWYp4FcjSPvb_EInqHS4J",
     "timestamp": 1660007760492
    }
   ]
  },
  "kernelspec": {
   "display_name": "Python 3",
   "language": "python",
   "name": "python3"
  },
  "language_info": {
   "codemirror_mode": {
    "name": "ipython",
    "version": 3
   },
   "file_extension": ".py",
   "mimetype": "text/x-python",
   "name": "python",
   "nbconvert_exporter": "python",
   "pygments_lexer": "ipython3",
   "version": "3.8.16"
  },
  "toc-autonumbering": false,
  "toc-showtags": false
 },
 "nbformat": 4,
 "nbformat_minor": 5
}
