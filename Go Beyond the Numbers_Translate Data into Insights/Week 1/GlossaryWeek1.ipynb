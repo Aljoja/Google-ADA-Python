{
 "cells": [
  {
   "cell_type": "markdown",
   "metadata": {},
   "source": [
    "# Glossary terms from module 1\n",
    "\n",
    "## Terms and definitions from Course 3, Module 1\n",
    "\n",
    "**Bias**: In data structuring, refers to organizing data results in groupings, categories, or variables that are misrepresentative of the whole dataset\t\t\t\t\t\n",
    "\n",
    "**Cleaning**: The process of removing errors that might distort your data or make it less useful; one of the six practices of EDA\t\t\t\t\n",
    "\n",
    "**Data visualization**: A graph, chart, diagram, or dashboard that is created as a representation of information\t\t\t\t\t\n",
    "\n",
    "**Discovering**: The process data professionals use to familiarize themselves with the data so they can start conceptualizing how to use it; one of the six practices of EDA\t\t\t\n",
    "\n",
    "**Exploratory data analysis (EDA)**: The process of investigating, organizing, and analyzing datasets and summarizing their main characteristics, often by employing data wrangling and visualization methods; the six main practices of EDA are: discovering, structuring, cleaning, joining, validating, and presenting\t\t\t\t\t\n",
    "\n",
    "**Joining**: The process of augmenting data by adding values from other datasets; one of the six practices of EDA\t\t\n",
    "\n",
    "**PACE**: A workflow data professionals can use to remain focused on the end goal of any given dataset; stands for plan, analyze, construct, and execute\t\t\t\t\t\n",
    "\n",
    "**Presenting**: The process of making a cleaned dataset available to others for analysis or further modeling; one of the six practices of EDA\t\t\t\t\t\n",
    "\n",
    "**Structuring**: The process of taking raw data and organizing or transforming it to be more easily visualized, explained, or modeled; one of the six practices of EDA\t\t\t\t\t\n",
    "\n",
    "**Validating**: The process of verifying that the data is consistent and high quality; one of the six practices of EDA"
   ]
  }
 ],
 "metadata": {
  "language_info": {
   "name": "python"
  },
  "orig_nbformat": 4
 },
 "nbformat": 4,
 "nbformat_minor": 2
}
