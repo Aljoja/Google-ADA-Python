{
 "cells": [
  {
   "cell_type": "markdown",
   "metadata": {},
   "source": [
    "In this lab portion of the end-of-course project, you will open a Jupyter Notebook and follow instructions to enter code and written responses where prompted. \n",
    "\n",
    "## Data dictionary\n",
    "This project uses a dataset called `waze_dataset.csv`. It contains synthetic data created for this project in partnership with Waze. \n",
    "\n",
    "The dataset contains:\n",
    "\n",
    "**14,999 rows** – each row represents one unique user \n",
    "\n",
    "**13 columns**\n",
    "\n",
    "| **Column name**| **Type** | **Description** |\n",
    "|:-------------|:-------------:|:-------------|\n",
    "| ID | int | A sequential numbered index |\n",
    "| label | obj | Binary target variable (“retained” vs “churned”) for if a user has churned anytime during the course of the month |\n",
    "| sessions | int | The number of occurrence of a user opening the app during the month |\n",
    "| drives | int | An occurrence of driving at least 1 km during the month |\n",
    "| device | obj | The type of device a user starts a session with |\n",
    "| total_sessions | float | A model estimate of the total number of sessions since a user has onboarded |\n",
    "| n_days_after_onboarding |int | The number of days since a user signed up for the app |\n",
    "| total_navigations_fav1 | int | Total navigations since onboarding to the user’s favorite place 1 |\n",
    "| total_navigations_fav2 | int | Total navigations since onboarding to the user’s favorite place 2 |\n",
    "| driven_km_drives | float | Total kilometers driven during the month |\n",
    "| duration_minutes_drives | float | Total duration driven in minutes during the month |\n",
    "| activity_days | int | Number of days the user opens the app during the month |\n",
    "| driving_days | int | Number of days the user drives (at least 1 km) during the month |\n"
   ]
  }
 ],
 "metadata": {
  "kernelspec": {
   "display_name": "base",
   "language": "python",
   "name": "python3"
  },
  "language_info": {
   "codemirror_mode": {
    "name": "ipython",
    "version": 3
   },
   "file_extension": ".py",
   "mimetype": "text/x-python",
   "name": "python",
   "nbconvert_exporter": "python",
   "pygments_lexer": "ipython3",
   "version": "3.8.16"
  }
 },
 "nbformat": 4,
 "nbformat_minor": 2
}
