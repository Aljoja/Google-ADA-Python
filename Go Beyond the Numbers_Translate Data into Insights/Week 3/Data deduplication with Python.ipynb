{
 "cells": [
  {
   "cell_type": "markdown",
   "metadata": {},
   "source": [
    "# Data deduplication with Python\n",
    "As you’ve learned, the data cleaning and validating practices include several different steps, including handling missing data, outliers, and label encoding; checking for misspellings; and, handling duplicates. As a data professional, it will be your task to know how best to handle data values in those categories. In this reading, you'll learn more about handling duplicates. You will also learn to identify and decide whether deduplication is the right strategy for a dataset. In addition, you will learn some common Python functions for handling duplicates. \n",
    "\n",
    "### Identifying duplicates \n",
    "Before we make any decisions on whether to remove duplicate values or not, we should first determine if duplicate values are present in our dataset. \n",
    "\n",
    "A simple way to identify duplicates is to use the `duplicated()` function from Pandas. `duplicated()` is a method of the `DataFrame` class.  \n",
    "\n",
    "This function returns a series of “true/false” outputs, with “true” indicating the data value is a duplicate, and “false” indicating it is a unique value. \n",
    "\n",
    "Here’s an example of a five-row dataframe:"
   ]
  },
  {
   "cell_type": "code",
   "execution_count": 9,
   "metadata": {},
   "outputs": [
    {
     "data": {
      "text/html": [
       "<div>\n",
       "<style scoped>\n",
       "    .dataframe tbody tr th:only-of-type {\n",
       "        vertical-align: middle;\n",
       "    }\n",
       "\n",
       "    .dataframe tbody tr th {\n",
       "        vertical-align: top;\n",
       "    }\n",
       "\n",
       "    .dataframe thead th {\n",
       "        text-align: right;\n",
       "    }\n",
       "</style>\n",
       "<table border=\"1\" class=\"dataframe\">\n",
       "  <thead>\n",
       "    <tr style=\"text-align: right;\">\n",
       "      <th></th>\n",
       "      <th>Brand</th>\n",
       "      <th>Style</th>\n",
       "      <th>Rating</th>\n",
       "    </tr>\n",
       "  </thead>\n",
       "  <tbody>\n",
       "    <tr>\n",
       "      <th>0</th>\n",
       "      <td>Wowyow</td>\n",
       "      <td>cistern</td>\n",
       "      <td>4.0</td>\n",
       "    </tr>\n",
       "    <tr>\n",
       "      <th>1</th>\n",
       "      <td>Wowyow</td>\n",
       "      <td>cistern</td>\n",
       "      <td>4.0</td>\n",
       "    </tr>\n",
       "    <tr>\n",
       "      <th>2</th>\n",
       "      <td>Splaysh</td>\n",
       "      <td>jug</td>\n",
       "      <td>5.5</td>\n",
       "    </tr>\n",
       "    <tr>\n",
       "      <th>3</th>\n",
       "      <td>Splaysh</td>\n",
       "      <td>stock</td>\n",
       "      <td>3.3</td>\n",
       "    </tr>\n",
       "    <tr>\n",
       "      <th>4</th>\n",
       "      <td>Pipplee</td>\n",
       "      <td>stock</td>\n",
       "      <td>3.0</td>\n",
       "    </tr>\n",
       "  </tbody>\n",
       "</table>\n",
       "</div>"
      ],
      "text/plain": [
       "     Brand    Style  Rating\n",
       "0   Wowyow  cistern     4.0\n",
       "1   Wowyow  cistern     4.0\n",
       "2  Splaysh      jug     5.5\n",
       "3  Splaysh    stock     3.3\n",
       "4  Pipplee    stock     3.0"
      ]
     },
     "execution_count": 9,
     "metadata": {},
     "output_type": "execute_result"
    }
   ],
   "source": [
    "import pandas as pd\n",
    "\n",
    "df = pd.DataFrame({'Brand' : ['Wowyow', 'Wowyow', 'Splaysh', 'Splaysh', 'Pipplee'],\n",
    "    'Style' : ['cistern', 'cistern', 'jug', 'stock', 'stock'],\n",
    "    'Rating' : [4.0, 4.0, 5.5, 3.3, 3.0],})\n",
    "df"
   ]
  },
  {
   "cell_type": "markdown",
   "metadata": {},
   "source": [
    "Using the `duplicated()` function, the result is that one has been marked “True,” indicating it is a duplicate."
   ]
  },
  {
   "cell_type": "code",
   "execution_count": 10,
   "metadata": {},
   "outputs": [
    {
     "name": "stdout",
     "output_type": "stream",
     "text": [
      "     Brand    Style  Rating\n",
      "0   Wowyow  cistern     4.0\n",
      "1   Wowyow  cistern     4.0\n",
      "2  Splaysh      jug     5.5\n",
      "3  Splaysh    stock     3.3\n",
      "4  Pipplee    stock     3.0\n",
      "\n",
      "0    False\n",
      "1     True\n",
      "2    False\n",
      "3    False\n",
      "4    False\n",
      "dtype: bool\n"
     ]
    }
   ],
   "source": [
    "print(df)\n",
    "print()\n",
    "print(df.duplicated())"
   ]
  },
  {
   "cell_type": "markdown",
   "metadata": {},
   "source": [
    "Identifying duplicates for an entire dataframe will be different than a single column or index. Be sure when you use the `duplicated()` function for an entire dataframe. The `duplicated()` function will only return entire rows that have exactly matching values, not just individual matching values found within a column. If you wish to identify duplicates for only one column or a series of columns within a dataframe, you will need to include that in the “subset” portion of the argument field of the `duplicated()` function. Going further, if you’d like to specify which of the duplicates to `keep` as the “original” as opposed to the duplicate, you can specify that in the keep portion of the argument field.\n",
    "\n",
    "Below is an example of identifying duplicates in only one column (subset) of values and labeling the last duplicates as “false,” so that they are “kept”: "
   ]
  },
  {
   "cell_type": "code",
   "execution_count": 11,
   "metadata": {},
   "outputs": [
    {
     "name": "stdout",
     "output_type": "stream",
     "text": [
      "     Brand    Style  Rating\n",
      "0   Wowyow  cistern     4.0\n",
      "1   Wowyow  cistern     4.0\n",
      "2  Splaysh      jug     5.5\n",
      "3  Splaysh    stock     3.3\n",
      "4  Pipplee    stock     3.0\n",
      "\n",
      "0    False\n",
      "1     True\n",
      "2    False\n",
      "3    False\n",
      "4     True\n",
      "dtype: bool\n"
     ]
    }
   ],
   "source": [
    "print(df)\n",
    "print()\n",
    "print(df.duplicated(subset=['Style'], keep='first'))"
   ]
  },
  {
   "cell_type": "markdown",
   "metadata": {},
   "source": [
    "### Decision time: To drop or not to drop?  \n",
    "As you’ve learned, every dataset is unique and you cannot treat every dataset the same. When you are making the decision on whether to eliminate duplicate values or not, think deeply about the **dataset itself** and about **the objective you wish to achieve**. What impact will dropping duplicates have on your dataset and your objective? \n",
    "\n",
    "1. **Deciding to drop**\n",
    "\n",
    "You should **drop or eliminate** duplicate values if duplicate values are clearly mistakes or will misrepresent the remaining unique values in the dataset.  \n",
    "\n",
    "![Image](Picture1.png)\n",
    "\n",
    "For example, you can be reasonably sure that a data professional will (in most cases) eliminate duplicate values of a dataset containing house addresses and house prices. Counting the same house twice will (in most cases) misrepresent any conclusions drawn from the dataset as a whole, such as average house price, total house price, or even total number of houses. In a case like this, a data professional would almost certainly eliminate the duplicate data so as to fairly represent the remaining data during analysis and visualization. \n",
    "\n",
    "2. **Deciding to NOT drop**\n",
    "\n",
    "You should **keep** duplicated data in your dataset if the duplicate values are clearly **not** mistakes and should be taken into account when representing the dataset as a whole. \n",
    "\n",
    "![Image](Picture2.png)\n",
    "\n",
    "For example, a dataset marking the number of throws and distances of an Olympic shot-put athlete in training will likely include several duplicate distances; just by nature of number of attempts and the limits a person can have a weighted ball, there will be duplicate values—particularly if the distance measurements are labeled to only 1 or 2 decimal places. In a case like this, a data professional would almost certainly keep all of the data to fairly represent it as a whole during analysis and visualization.   \n",
    "\n",
    "### Don’t be duped — How to do deduplication \n",
    "Before we get back into Python and learn how to eliminate duplicates, let’s first define the term “deduplication”: \n",
    "\n",
    "- **Deduplication:**  The elimination or removal of matching data values in a dataset.\n",
    "\n",
    "There are a number of different libraries, functions, and methods in Python you could use to remove matching data values. \n",
    "\n",
    "One of the more common functions to use is in Pandas: `drop_duplicates()`\n",
    "\n",
    "`drop_duplicates()` is another `DataFrame method`. It's used to create a new dataframe with all of the duplicate rows removed. \n",
    "\n",
    "For example, use a dataframe from earlier in this reading: "
   ]
  },
  {
   "cell_type": "code",
   "execution_count": 12,
   "metadata": {},
   "outputs": [
    {
     "data": {
      "text/html": [
       "<div>\n",
       "<style scoped>\n",
       "    .dataframe tbody tr th:only-of-type {\n",
       "        vertical-align: middle;\n",
       "    }\n",
       "\n",
       "    .dataframe tbody tr th {\n",
       "        vertical-align: top;\n",
       "    }\n",
       "\n",
       "    .dataframe thead th {\n",
       "        text-align: right;\n",
       "    }\n",
       "</style>\n",
       "<table border=\"1\" class=\"dataframe\">\n",
       "  <thead>\n",
       "    <tr style=\"text-align: right;\">\n",
       "      <th></th>\n",
       "      <th>Brand</th>\n",
       "      <th>Style</th>\n",
       "      <th>Rating</th>\n",
       "    </tr>\n",
       "  </thead>\n",
       "  <tbody>\n",
       "    <tr>\n",
       "      <th>0</th>\n",
       "      <td>Wowyow</td>\n",
       "      <td>cistern</td>\n",
       "      <td>4.0</td>\n",
       "    </tr>\n",
       "    <tr>\n",
       "      <th>1</th>\n",
       "      <td>Wowyow</td>\n",
       "      <td>cistern</td>\n",
       "      <td>4.0</td>\n",
       "    </tr>\n",
       "    <tr>\n",
       "      <th>2</th>\n",
       "      <td>Splaysh</td>\n",
       "      <td>jug</td>\n",
       "      <td>5.5</td>\n",
       "    </tr>\n",
       "    <tr>\n",
       "      <th>3</th>\n",
       "      <td>Splaysh</td>\n",
       "      <td>stock</td>\n",
       "      <td>3.3</td>\n",
       "    </tr>\n",
       "    <tr>\n",
       "      <th>4</th>\n",
       "      <td>Pipplee</td>\n",
       "      <td>stock</td>\n",
       "      <td>3.0</td>\n",
       "    </tr>\n",
       "  </tbody>\n",
       "</table>\n",
       "</div>"
      ],
      "text/plain": [
       "     Brand    Style  Rating\n",
       "0   Wowyow  cistern     4.0\n",
       "1   Wowyow  cistern     4.0\n",
       "2  Splaysh      jug     5.5\n",
       "3  Splaysh    stock     3.3\n",
       "4  Pipplee    stock     3.0"
      ]
     },
     "execution_count": 12,
     "metadata": {},
     "output_type": "execute_result"
    }
   ],
   "source": [
    "df"
   ]
  },
  {
   "cell_type": "code",
   "execution_count": 13,
   "metadata": {},
   "outputs": [
    {
     "data": {
      "text/html": [
       "<div>\n",
       "<style scoped>\n",
       "    .dataframe tbody tr th:only-of-type {\n",
       "        vertical-align: middle;\n",
       "    }\n",
       "\n",
       "    .dataframe tbody tr th {\n",
       "        vertical-align: top;\n",
       "    }\n",
       "\n",
       "    .dataframe thead th {\n",
       "        text-align: right;\n",
       "    }\n",
       "</style>\n",
       "<table border=\"1\" class=\"dataframe\">\n",
       "  <thead>\n",
       "    <tr style=\"text-align: right;\">\n",
       "      <th></th>\n",
       "      <th>Brand</th>\n",
       "      <th>Style</th>\n",
       "      <th>Rating</th>\n",
       "    </tr>\n",
       "  </thead>\n",
       "  <tbody>\n",
       "    <tr>\n",
       "      <th>0</th>\n",
       "      <td>Wowyow</td>\n",
       "      <td>cistern</td>\n",
       "      <td>4.0</td>\n",
       "    </tr>\n",
       "    <tr>\n",
       "      <th>2</th>\n",
       "      <td>Splaysh</td>\n",
       "      <td>jug</td>\n",
       "      <td>5.5</td>\n",
       "    </tr>\n",
       "    <tr>\n",
       "      <th>3</th>\n",
       "      <td>Splaysh</td>\n",
       "      <td>stock</td>\n",
       "      <td>3.3</td>\n",
       "    </tr>\n",
       "    <tr>\n",
       "      <th>4</th>\n",
       "      <td>Pipplee</td>\n",
       "      <td>stock</td>\n",
       "      <td>3.0</td>\n",
       "    </tr>\n",
       "  </tbody>\n",
       "</table>\n",
       "</div>"
      ],
      "text/plain": [
       "     Brand    Style  Rating\n",
       "0   Wowyow  cistern     4.0\n",
       "2  Splaysh      jug     5.5\n",
       "3  Splaysh    stock     3.3\n",
       "4  Pipplee    stock     3.0"
      ]
     },
     "execution_count": 13,
     "metadata": {},
     "output_type": "execute_result"
    }
   ],
   "source": [
    "df.drop_duplicates()"
   ]
  },
  {
   "cell_type": "markdown",
   "metadata": {},
   "source": [
    "You’ll notice in the resulting output that the duplicate row of data was removed, leaving the remaining unique values intact. \n",
    "\n",
    "**Note:** Keep in mind that the `drop_duplicates()` function as written above will only drop duplicates of exact matches of **entire rows of data**. If you wish to drop duplicates within a single column, you will need to specify which columns to check for duplicates using the `subset` keyword argument. \n",
    "\n",
    "This example drops all rows that have duplicate values in the `Style` column (except for the first occurrence):"
   ]
  },
  {
   "cell_type": "code",
   "execution_count": 14,
   "metadata": {},
   "outputs": [
    {
     "name": "stdout",
     "output_type": "stream",
     "text": [
      "     Brand    Style  Rating\n",
      "0   Wowyow  cistern     4.0\n",
      "1   Wowyow  cistern     4.0\n",
      "2  Splaysh      jug     5.5\n",
      "3  Splaysh    stock     3.3\n",
      "4  Pipplee    stock     3.0\n",
      "\n",
      "     Brand    Style  Rating\n",
      "0   Wowyow  cistern     4.0\n",
      "2  Splaysh      jug     5.5\n",
      "3  Splaysh    stock     3.3\n"
     ]
    }
   ],
   "source": [
    "print(df)\n",
    "print()\n",
    "print(df.drop_duplicates(subset='Style'))"
   ]
  },
  {
   "cell_type": "markdown",
   "metadata": {},
   "source": [
    "And this example drops all rows (except the first occurrence) that have duplicate values in both the `Style` and `Rating` columns:"
   ]
  },
  {
   "cell_type": "code",
   "execution_count": 15,
   "metadata": {},
   "outputs": [
    {
     "name": "stdout",
     "output_type": "stream",
     "text": [
      "     Brand    Style  Rating\n",
      "0   Wowyow  cistern     4.0\n",
      "1   Wowyow  cistern     4.0\n",
      "2  Splaysh      jug     5.5\n",
      "3  Splaysh    stock     3.3\n",
      "4  Pipplee    stock     3.0\n",
      "\n",
      "     Brand    Style  Rating\n",
      "0   Wowyow  cistern     4.0\n",
      "2  Splaysh      jug     5.5\n",
      "3  Splaysh    stock     3.3\n",
      "4  Pipplee    stock     3.0\n"
     ]
    }
   ],
   "source": [
    "print(df)\n",
    "print()\n",
    "print(df.drop_duplicates(subset=['Style', 'Rating']))"
   ]
  },
  {
   "cell_type": "markdown",
   "metadata": {},
   "source": [
    "### Key Takeaways\n",
    "Identifying duplicate data values in a dataset is an important part of EDA (or “Exploratory Data Analysis”) practices, specifically cleaning and validating. After identifying duplicates, think about the impact to the dataset and your analysis objective when choosing to eliminate duplicates or not eliminate duplicates. \n",
    "\n",
    "### Additional Resources\n",
    "Want to learn more about duplicates and deduplication? Check out the following additional links. \n",
    "\n",
    "- [Look at Pandas documentation to learn more about the parameters of the argument field](https://pandas.pydata.org/docs/reference/api/pandas.DataFrame.drop_duplicates.html)\n",
    "\n",
    "- [W3 Schools: Pandas - removing duplicates](https://www.w3schools.com/python/pandas/pandas_cleaning_duplicates.asp)"
   ]
  }
 ],
 "metadata": {
  "kernelspec": {
   "display_name": "base",
   "language": "python",
   "name": "python3"
  },
  "language_info": {
   "codemirror_mode": {
    "name": "ipython",
    "version": 3
   },
   "file_extension": ".py",
   "mimetype": "text/x-python",
   "name": "python",
   "nbconvert_exporter": "python",
   "pygments_lexer": "ipython3",
   "version": "3.8.16"
  }
 },
 "nbformat": 4,
 "nbformat_minor": 2
}
