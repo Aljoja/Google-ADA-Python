{
 "cells": [
  {
   "cell_type": "markdown",
   "metadata": {},
   "source": [
    "# Reference guide: How to handle outliers\n",
    "Previously, you watched two videos about how to detect outliers and why handling outliers can be an important part of data cleaning. At this point, you likely have a good understanding of this. It is important to not only detect outliers, but also to have a plan for them.\n",
    "\n",
    "That is precisely what you will review in this reading. Once you’ve detected outliers in your dataset—whether global, contextual, or collective—how do you handle them? When it comes to exploratory data analysis, or EDA, there are essentially three main ways to handle outliers: delete, reassign, or leave them in.\n",
    "\n",
    "Whether you keep outliers as they are, delete them, or reassign values is a decision that you make on a dataset-by-dataset basis. To help you make the decision, you can start with these general guidelines:\n",
    "\n",
    "- **Delete them**: If you are sure the outliers are mistakes, typos, or errors and the dataset will be used for modeling or machine learning, then you are more likely to decide to delete outliers. Of the three choices, you’ll use this one the least. \n",
    "\n",
    "- **Reassign them**: If the dataset is small and/or the data will be used for modeling or machine learning, you are more likely to choose a path of deriving new values to replace the outlier values. \n",
    "\n",
    "- **Leave them**: For a dataset that you plan to do EDA/analysis on and nothing else, or for a dataset you are preparing for a model that is resistant to outliers, it is most likely that you are going to leave them in.\n",
    "\n",
    "The videos discussing outliers went into detail on how to handle outliers when you leave them in the dataset. In this reading, you will learn about some techniques for deleting and reassigning outliers. \n",
    "\n",
    "### **1. Delete them.** \n",
    "For one way to delete outlier values, recall the coding you saw in the walkthrough video on outliers. In that video, the instructor coded a box plot to help you visualize two different outliers, as shown here: "
   ]
  },
  {
   "cell_type": "code",
   "execution_count": 2,
   "metadata": {},
   "outputs": [],
   "source": [
    "import matplotlib.pyplot as plt\n",
    "import pandas as pd\n",
    "import numpy as np\n",
    "import seaborn as sns"
   ]
  },
  {
   "cell_type": "code",
   "execution_count": 3,
   "metadata": {},
   "outputs": [],
   "source": [
    "# Read data\n",
    "df = pd.read_csv('eda_outliers_dataset1.csv')"
   ]
  },
  {
   "cell_type": "code",
   "execution_count": 5,
   "metadata": {},
   "outputs": [],
   "source": [
    "def readable_numbers(x):\n",
    "    \"\"\"takes a large number and formats it into K,M to make it more readable\"\"\"\n",
    "    if x >= 1e6:\n",
    "        s = '{:1.1f}M'.format(x*1e-6)\n",
    "    else:\n",
    "        s = '{:1.0f}K'.format(x*1e-3)\n",
    "    return s\n",
    "\n",
    "# Use the readable_numbers() function to create a new column \n",
    "df['number_of_strikes_readable']=df['number_of_strikes'].apply(readable_numbers)"
   ]
  },
  {
   "cell_type": "code",
   "execution_count": 6,
   "metadata": {},
   "outputs": [
    {
     "name": "stderr",
     "output_type": "stream",
     "text": [
      "C:\\Users\\amurd\\AppData\\Local\\Temp\\ipykernel_20456\\2525879430.py:3: UserWarning: FixedFormatter should only be used together with FixedLocator\n",
      "  box.set_xticklabels(np.array([readable_numbers(x) for x in g.get_xticks()]))\n"
     ]
    },
    {
     "data": {
      "image/png": "[encoded data removed]",
      "text/plain": [
       "<Figure size 640x480 with 1 Axes>"
      ]
     },
     "metadata": {},
     "output_type": "display_data"
    }
   ],
   "source": [
    "box = sns.boxplot(x=df['number_of_strikes'])\n",
    "g = plt.gca()\n",
    "box.set_xticklabels(np.array([readable_numbers(x) for x in g.get_xticks()]))\n",
    "plt.xlabel('Number of strikes')\n",
    "plt.title('Yearly number of lightning strikes');"
   ]
  },
  {
   "cell_type": "markdown",
   "metadata": {},
   "source": [
    "The instructor then used the following code to find the lower limit—8.6M.  "
   ]
  },
  {
   "cell_type": "code",
   "execution_count": 8,
   "metadata": {},
   "outputs": [
    {
     "name": "stdout",
     "output_type": "stream",
     "text": [
      "Lower limit is:  8.6M\n"
     ]
    }
   ],
   "source": [
    "# Calculate 25th percentile of annual strikes\n",
    "percentile25 = df['number_of_strikes'].quantile(0.25)\n",
    "\n",
    "# Calculate 75th percentile of annual strikes\n",
    "percentile75 = df['number_of_strikes'].quantile(0.75)\n",
    "\n",
    "# Calculate interquartile range\n",
    "iqr = percentile75 - percentile25\n",
    "\n",
    "# Calculate upper and lower thresholds for outliers\n",
    "upper_limit = percentile75 + 1.5 * iqr\n",
    "lower_limit = percentile25 - 1.5 * iqr\n",
    "\n",
    "print('Lower limit is: ', readable_numbers(lower_limit))"
   ]
  },
  {
   "cell_type": "markdown",
   "metadata": {},
   "source": [
    "Next, a Boolean mask was used to filter the dataframe so it only contained rows where the number of strikes was less than the lower limit."
   ]
  },
  {
   "cell_type": "code",
   "execution_count": 9,
   "metadata": {},
   "outputs": [
    {
     "name": "stdout",
     "output_type": "stream",
     "text": [
      "    year  number_of_strikes number_of_strikes_readable\n",
      "1   2019             209166                       209K\n",
      "33  1987            7378836                       7.4M\n"
     ]
    }
   ],
   "source": [
    "print(df[df['number_of_strikes'] < lower_limit])"
   ]
  },
  {
   "cell_type": "markdown",
   "metadata": {},
   "source": [
    "Once you know the cutoff points for outliers, if you want to delete them, you can use a Boolean mask to select all rows such that: lower limit ≤ values ≤ upper limit.  "
   ]
  },
  {
   "cell_type": "code",
   "execution_count": 10,
   "metadata": {},
   "outputs": [
    {
     "name": "stdout",
     "output_type": "stream",
     "text": [
      "    year  number_of_strikes number_of_strikes_readable\n",
      "0   2020           15620068                      15.6M\n",
      "2   2018           44600989                      44.6M\n",
      "3   2017           35095195                      35.1M\n",
      "4   2016           41582229                      41.6M\n",
      "5   2015           37894191                      37.9M\n",
      "6   2014           34919173                      34.9M\n",
      "7   2013           27600898                      27.6M\n",
      "8   2012           28807552                      28.8M\n",
      "9   2011           31392058                      31.4M\n",
      "10  2010           29068965                      29.1M\n",
      "11  2009           30100585                      30.1M\n",
      "12  2008           29790934                      29.8M\n",
      "13  2007           30529064                      30.5M\n",
      "14  2006           33292382                      33.3M\n",
      "15  2005           38168699                      38.2M\n",
      "16  2004           40023951                      40.0M\n",
      "17  2003           39092327                      39.1M\n",
      "18  2002           29916767                      29.9M\n",
      "19  2001           25470095                      25.5M\n",
      "20  2000           26276135                      26.3M\n",
      "21  1999           27758681                      27.8M\n",
      "22  1998           28802221                      28.8M\n",
      "23  1997           26986915                      27.0M\n",
      "24  1996           26190094                      26.2M\n",
      "25  1995           22763540                      22.8M\n",
      "26  1994           25094010                      25.1M\n",
      "27  1993           24206929                      24.2M\n",
      "28  1992           16371876                      16.4M\n",
      "29  1991           16900934                      16.9M\n",
      "30  1990           15839052                      15.8M\n",
      "31  1989           14245186                      14.2M\n",
      "32  1988            9150440                       9.2M\n"
     ]
    }
   ],
   "source": [
    "mask = (df['number_of_strikes'] >= lower_limit) & (df['number_of_strikes'] <=\n",
    "upper_limit)\n",
    "\n",
    "df = df[mask].copy()\n",
    "print(df)"
   ]
  },
  {
   "cell_type": "markdown",
   "metadata": {},
   "source": [
    "Next, you’ll consider reassigning outliers by deriving new values that are a better fit for the dataset. \n",
    "\n",
    "### **2. Reassigning them.**\n",
    "Instead of deleting outliers, you can always reassign them, that is, change the values to ones that fit within the general distribution of the dataset. There are two common ways to do this, but many different ways can be used, depending on your use case: \n",
    "\n",
    "**1. Create a floor and ceiling at a quantile:** For example, you could place walls at the 90th and 10th percentile of the distribution of data values. Any value above the 90% mark or below the 10% mark are changed to fit within the walls you set. Here is an example of what that code might look like:"
   ]
  },
  {
   "cell_type": "code",
   "execution_count": 12,
   "metadata": {},
   "outputs": [
    {
     "data": {
      "text/plain": [
       "0     15940288.56\n",
       "2     38916837.68\n",
       "3     35095195.00\n",
       "4     38916837.68\n",
       "5     37894191.00\n",
       "6     34919173.00\n",
       "7     27600898.00\n",
       "8     28807552.00\n",
       "9     31392058.00\n",
       "10    29068965.00\n",
       "11    30100585.00\n",
       "12    29790934.00\n",
       "13    30529064.00\n",
       "14    33292382.00\n",
       "15    38168699.00\n",
       "16    38916837.68\n",
       "17    38916837.68\n",
       "18    29916767.00\n",
       "19    25470095.00\n",
       "20    26276135.00\n",
       "21    27758681.00\n",
       "22    28802221.00\n",
       "23    26986915.00\n",
       "24    26190094.00\n",
       "25    22763540.00\n",
       "26    25094010.00\n",
       "27    24206929.00\n",
       "28    16371876.00\n",
       "29    16900934.00\n",
       "30    15940288.56\n",
       "31    15940288.56\n",
       "32    15940288.56\n",
       "Name: number_of_strikes, dtype: float64"
      ]
     },
     "execution_count": 12,
     "metadata": {},
     "output_type": "execute_result"
    }
   ],
   "source": [
    "# Calculate 10th percentile\n",
    "tenth_percentile = np.percentile(df['number_of_strikes'], 10)\n",
    "\n",
    "# Calculate 90th percentile\n",
    "ninetieth_percentile = np.percentile(df['number_of_strikes'], 90)\n",
    "\n",
    "# Apply lambda function to replace outliers with thresholds defined above\n",
    "df['number_of_strikes'] = df['number_of_strikes'].apply(lambda x: (\n",
    "    tenth_percentile if x < tenth_percentile \n",
    "    else ninetieth_percentile if x > ninetieth_percentile \n",
    "    else x))\n",
    "df['number_of_strikes']"
   ]
  },
  {
   "cell_type": "markdown",
   "metadata": {},
   "source": [
    "**2. Impute the average:** In some cases, it might be best to reassign all outlier values to match the median or mean value. This will ensure that your median and distribution are based solely on the non-outlier values, leaving the original outliers excluded. The actual imputation or reassigning of values can be pretty simple if you’ve already found the outliers. The following code block calculates the median of the values greater than the lower limit. Then it imputes the median where values are lower than the lower limit."
   ]
  },
  {
   "cell_type": "code",
   "execution_count": 16,
   "metadata": {},
   "outputs": [
    {
     "data": {
      "text/plain": [
       "0     15620068.0\n",
       "1     28804886.5\n",
       "2     44600989.0\n",
       "3     35095195.0\n",
       "4     41582229.0\n",
       "5     37894191.0\n",
       "6     34919173.0\n",
       "7     27600898.0\n",
       "8     28807552.0\n",
       "9     31392058.0\n",
       "10    29068965.0\n",
       "11    30100585.0\n",
       "12    29790934.0\n",
       "13    30529064.0\n",
       "14    33292382.0\n",
       "15    38168699.0\n",
       "16    40023951.0\n",
       "17    39092327.0\n",
       "18    29916767.0\n",
       "19    25470095.0\n",
       "20    26276135.0\n",
       "21    27758681.0\n",
       "22    28802221.0\n",
       "23    26986915.0\n",
       "24    26190094.0\n",
       "25    22763540.0\n",
       "26    25094010.0\n",
       "27    24206929.0\n",
       "28    16371876.0\n",
       "29    16900934.0\n",
       "30    15839052.0\n",
       "31    14245186.0\n",
       "32     9150440.0\n",
       "33    28804886.5\n",
       "Name: number_of_strikes, dtype: float64"
      ]
     },
     "execution_count": 16,
     "metadata": {},
     "output_type": "execute_result"
    }
   ],
   "source": [
    "# Reset dataset\n",
    "df = pd.read_csv('eda_outliers_dataset1.csv')\n",
    "\n",
    "# Calculate median of all NON-OUTLIER values\n",
    "median = np.median(df['number_of_strikes'][df['number_of_strikes'] >= lower_limit])\n",
    "\n",
    "# Impute the median for all values < lower_limit\n",
    "df['number_of_strikes'] = np.where(df['number_of_strikes'] < lower_limit, median, df['number_of_strikes'] )\n",
    "df['number_of_strikes']"
   ]
  },
  {
   "cell_type": "markdown",
   "metadata": {},
   "source": [
    "**Note:** Outside of EDA, machine learning and regression modeling have more complex variations on dealing with outliers. You will learn more about those topics later. \n",
    "\n",
    "### Key Takeaways\n",
    "After detecting the outliers in a dataset, it is essential that you determine a strategy for how to handle them. Because every dataset and data-based problem is different, your strategy will vary. For the most part, you will be choosing between deleting, reassigning, or leaving outliers. "
   ]
  }
 ],
 "metadata": {
  "kernelspec": {
   "display_name": "base",
   "language": "python",
   "name": "python3"
  },
  "language_info": {
   "codemirror_mode": {
    "name": "ipython",
    "version": 3
   },
   "file_extension": ".py",
   "mimetype": "text/x-python",
   "name": "python",
   "nbconvert_exporter": "python",
   "pygments_lexer": "ipython3",
   "version": "3.8.16"
  }
 },
 "nbformat": 4,
 "nbformat_minor": 2
}
