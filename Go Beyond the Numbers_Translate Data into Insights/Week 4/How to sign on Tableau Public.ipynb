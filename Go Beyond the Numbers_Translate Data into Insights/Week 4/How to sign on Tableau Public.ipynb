{
 "cells": [
  {
   "cell_type": "markdown",
   "metadata": {},
   "source": [
    "# How to sign on to Tableau Public\n",
    "As you have been learning, Tableau is a powerful data visualization tool used by data professionals around the world. Tableau offers a free browser version of its software, Tableau Public, which allows learners like yourself to test out its capability in a limited capacity. Tableau Public is the software you will use throughout this course on data visualization. In this reading, you will be guided on how to sign up for Tableau Public, and you will be given troubleshooting resources for potential obstacles you may experience. \n",
    "\n",
    "### How to sign in to Tableau Public \n",
    "**Signing in with an existing Tableau.com account**\n",
    "\n",
    "If you already have a Tableau.com account, you can use your existing [login credentials](https://identity.idp.tableau.com/login?state=hKFo2SBKOEgxYllud014VHFFakVpMzlnNFdhRUNKVXJ6ZVBnTaFupWxvZ2luo3RpZNkgLXBtWHRBWUhuNFFqNWZVVjRadnU4clhBNEtDVGNTeWOjY2lk2SBFeVRaSXdmbjlTM2ViTk15RHU1TjRmcTkxMVJsSW9hdA&client=EyTZIwfn9S3ebNMyDu5N4fq911RlIoat&protocol=oauth2&prompt=login&response_type=token%20id_token&redirect_uri=https%3A%2F%2Fid.tableau.com%2Fcallback&scope=openid%20email&audience=https%3A%2F%2Fid.tableau.com%2Fapi%2Fv4%2F&nonce=yZmF9e77cuq0mA8Aq..3zZF1SFh84Kni&auth0Client=eyJuYW1lIjoiYXV0aDAuanMiLCJ2ZXJzaW9uIjoiOS4xOS4xIn0%3D) to sign into Tableau Public. Click [here](https://community.tableau.com/s/tableau-public-faq#subhead6) to learn more. If this is your first time signing in to Tableau Public with your Tableau.com account, you can set your account password by resetting your password. To do so, click “[reset password](https://id.tableau.com/resetPassword).” \n",
    "\n",
    "**Signing in for the first time**\n",
    "\n",
    "The following instructions show you how to sign up for Tableau Public for the first time, without a pre-existing Tableau.com or Tableau Public account. First, go to the [Tableau Public home page](https://public.tableau.com/). If [this link](https://public.tableau.com/) does not open to Tableau’s homepage, type public.tableau.com in your browser’s address bar. \n",
    "\n",
    "**Note:** Tableau Public works best on *Chrome (Windows, Mac, Android), Edge (Windows), Firefox (Windows and Mac), Safari (Mac and IOS)*.\n",
    "\n",
    "Next, at the top right of the page, click the *“Sign Up”* button. \n",
    "\n",
    "<img src=\"Picture4.png\" alt=\"img\" width=\"1000\" height=\"400\">\n",
    "\n",
    "Fill in all the required fields and click “Create My Account.” \n",
    "\n",
    "**Navigating Tableau Public**\n",
    "\n",
    "The home page for Tableau Public contains resources and guides for helping data professionals learn more about and get inspired by data visualizations. You can explore any and all of the links on this landing page to help enhance your knowledge of Tableau. The most helpful place to start if you are new to Tableau is the [Resources page](https://public.tableau.com/en-us/s/resources), which has how-to videos, community resources and user forums. \n",
    "\n",
    "<img src=\"Picture5.png\" alt=\"img\" width=\"1000\" height=\"400\">\n",
    "\n",
    "### How to start creating your own visualizations\n",
    "During the instruction videos, the instructor will ask you to log in to Public Tableau and follow along in the creation of a data visualization. Once you’ve set up your Tableau Public profile, all you need to do is log in and select Web Authoring under Create in the navigation bar.\n",
    "\n",
    "<img src=\"Picture6.png\" alt=\"img\" width=\"1000\" height=\"400\">\n",
    "\n",
    "**Get Started**\n",
    "\n",
    "Within your Tableau Public profile, you’ll find tabs for Vizzes, Favorites, Following, and Followers.  At the instructor's prompt, click *Create a Viz*.\n",
    "\n",
    "<img src=\"Picture7.png\" alt=\"img\" width=\"1000\" height=\"400\">\n",
    "\n",
    "### Key takeaways\n",
    "Accessing Tableau Public and creating a profile will be your first step to learning how to design data visualizations like a data professional. \n",
    "\n",
    "### Resources for more information\n",
    "To help you troubleshoot or to learn more, explore take a look at the following links:\n",
    "\n",
    "- Tableau Public not working? Check out these [Technical speculations and storage requirements](https://www.tableau.com/products/techspecs#public)\n",
    "\n",
    "- The Tableau Public Discover page [includes ‘Viz of the Day’ and other beautiful vizzes designed on the platform](https://public.tableau.com/app/discover)\n",
    "\n",
    "- The Tableau Public Blog [offers regular dispatches from the Tableau Public Team](https://public.tableau.com/en-us/s/blog)"
   ]
  }
 ],
 "metadata": {
  "language_info": {
   "name": "python"
  }
 },
 "nbformat": 4,
 "nbformat_minor": 2
}
