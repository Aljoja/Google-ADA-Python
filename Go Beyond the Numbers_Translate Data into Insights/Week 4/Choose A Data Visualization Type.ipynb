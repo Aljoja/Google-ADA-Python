{
 "cells": [
  {
   "cell_type": "markdown",
   "metadata": {},
   "source": [
    "# Choose a data visualization type\n",
    "Consider the following scenario: You are a data consultant contracted by a landowner organization in Greece. They are asking you to analyze the publicly-available AirBnB data in Athens, Greece, as part of a land development strategy meeting. \n",
    "\n",
    "    AirBnB_listings_Athens.csv\n",
    "\n",
    "They aren’t interested in a deep analysis yet. What they would like is data visualizations portraying some important aspects of the data. \n",
    "\n",
    "They would like you to create data visualizations of the following:\n",
    "\n",
    "- The listings with more than 100 reviews, with the dates of each listing’s most recent customer review \n",
    "\n",
    "- The prices of the top 20 listings with the highest reviews per month \n",
    "\n",
    "- The locations of the top 50 most expensive AirBnB listings in Athens, Greece    \n",
    "\n",
    "To complete this discussion prompt: \n",
    "\n",
    "1. Use the graphics below to help you decide which type(s) of data visualizations are best suited to visualize each requested data extraction.\n",
    "\n",
    "2. Write the data visualization type.\n",
    "\n",
    "3. Write two sentences describing why you selected each data visualization type (60–80 words per bullet point).\n",
    "\n",
    "4. Visit the [discussion forums(https://www.coursera.org/learn/go-beyond-the-numbers-translate-data-into-insight/discussions)] to read what other learners have written, and respond to at least two posts with your own thoughts.\n",
    "\n",
    "**Comparison: Compare different data values**\n",
    "\n",
    "<img src=\"Picture8.png\" alt=\"img\" width=\"1000\" height=\"300\">\n",
    "\n",
    "**Distribution: Show how data values are distributed**\n",
    "\n",
    "<img src=\"Picture9.png\" alt=\"img\" width=\"1000\" height=\"300\">\n",
    "\n",
    "**Segmentation: Break data into parts**\n",
    "\n",
    "<img src=\"Picture10.png\" alt=\"img\" width=\"1000\" height=\"300\">\n",
    "\n",
    "**Relationship: Show how data variables relate**\n",
    "\n",
    "<img src=\"Picture11.png\" alt=\"img\" width=\"1000\" height=\"300\">\n",
    "\n",
    "**Time series: Show changes in data over time**\n",
    "\n",
    "<img src=\"Picture12.png\" alt=\"img\" width=\"1000\" height=\"300\">\n",
    "\n"
   ]
  }
 ],
 "metadata": {
  "language_info": {
   "name": "python"
  }
 },
 "nbformat": 4,
 "nbformat_minor": 2
}
