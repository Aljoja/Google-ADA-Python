{
 "cells": [
  {
   "cell_type": "markdown",
   "metadata": {},
   "source": [
    "# Tableau Public overview\n",
    "As you have been learning, Tableau is a powerful data visualization tool used by data professionals around the world. If you have taken the Google Data Analytics Professional Certificate, then you should already be familiar with Tableau. If you haven’t completed the Data Analytics Certificate, you can review resource materials below and linked in other videos. The Tableau software is available for free through its browser version, which allows learners like you to test out the capabilities of the software in a limited capacity. In this reading, you will be given an overview of Tableau Public, the free use, basic version of this visualization software.    \n",
    "\n",
    "### **Reviewing the fundamentals of Tableau Public**\n",
    "In this reading, you will learn about the basic structure of the **data source** and **design** screens featured in Tableau Public. The data source page is used for inputting or connecting to the data, and the design page is used for plotting and creating data visualizations. Both are needed to successfully design impactful and compelling data visualizations. \n",
    "\n",
    "**Note:** To review the Tableau Public setup process, refer to the reading about [how to sign on to Tableau Public](https://www.coursera.org/learn/go-beyond-the-numbers-translate-data-into-insight/supplement/muYtK/how-to-sign-on-to-tableau-public).\n",
    "\n",
    "**Data source page**\n",
    "\n",
    "Before you can start designing visualizations, you’ll first need to upload your data. Since you’ve already set up your Tableau Public profile, all you need to do is log in and select Web Authoring under Create in the navigation bar. \n",
    "\n",
    "**Note:** Everything required for Tableau in this course can be completed with Web Authoring; you are *not* required to download the Tableau software. \n",
    "\n",
    "**Tableau Public Web Authoring**\n",
    "\n",
    "Web authoring allows you to create visualizations directly from a web browser. Can you create a viz without downloading any software? Yes! Since you’ve already [set up your Tableau Public profile](https://www.tableau.com/community/blog/2022/9/beginners-guide-tableau-public), all you need to do is log in and select **Web Authoring** under **Create** in the navigation bar. For the purposes of this certificate program, you can perform everything you need in Tableau Public. The instructions in the following resources refer to Tableau Public.\n",
    "\n",
    "**Tableau Desktop Public Edition**\n",
    "You can also [download](https://www.tableau.com/community/blog/2022/9/beginners-guide-tableau-public) the software directly to your Mac or PC. Select **Tableau Desktop Public Edition** under **Create** in the navigation bar on Public’s website. \n",
    "\n",
    "***Reminder: Tableau Public should only be used for analyzing and sharing public data.*** *All workbooks and datasets published will be freely accessible to anyone.* \n",
    "\n",
    " After you upload your dataset, you can perform the following steps outlined to match the circled numbers in the following image:\n",
    "\n",
    " ![Img](Picture1.png)"
   ]
  }
 ],
 "metadata": {
  "language_info": {
   "name": "python"
  }
 },
 "nbformat": 4,
 "nbformat_minor": 2
}
