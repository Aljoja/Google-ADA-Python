{
 "cells": [
  {
   "cell_type": "markdown",
   "metadata": {},
   "source": [
    "# Loops, break, and continue statements\n",
    "You’ve learned about while loops in Python and have explored some examples. While loops are useful because they allow you to perform an action or evaluation repeatedly until a given condition or requirement is met, and then they stop. This is an important process in computer programming, not just in Python, but in most other languages too. Data professionals use while loops to process data, so it’s important for you to familiarize yourself with them as you grow your skills. This reading is a review of the fundamental concepts of while loops.\n",
    "\n",
    "## While loop syntax \n",
    "A while loop is a control structure that allows you to repeatedly execute a block of code for as long as a certain condition is true. \n",
    "\n",
    "**Note**: The following code block is not interactive. \n",
    "\n",
    "The basic syntax of a while loop is as follows:"
   ]
  },
  {
   "cell_type": "code",
   "execution_count": 1,
   "metadata": {},
   "outputs": [
    {
     "ename": "SyntaxError",
     "evalue": "unexpected EOF while parsing (1302138919.py, line 2)",
     "output_type": "error",
     "traceback": [
      "\u001b[1;36m  Cell \u001b[1;32mIn[1], line 2\u001b[1;36m\u001b[0m\n\u001b[1;33m    # Code block to execute\u001b[0m\n\u001b[1;37m                           ^\u001b[0m\n\u001b[1;31mSyntaxError\u001b[0m\u001b[1;31m:\u001b[0m unexpected EOF while parsing\n"
     ]
    }
   ],
   "source": [
    "while condition:\n",
    "   # Code block to execute"
   ]
  },
  {
   "cell_type": "markdown",
   "metadata": {},
   "source": [
    "The `condition` is a Boolean expression that is evaluated at the beginning of each iteration of the loop. If the condition is true, the code block executes. After the code block executes, the condition is evaluated again. This process continues until the condition is false, at which point the loop terminates and the program continues with the next statement after the loop. \n",
    "\n",
    "Here is an example of a basic while loop:"
   ]
  },
  {
   "cell_type": "code",
   "execution_count": 2,
   "metadata": {},
   "outputs": [
    {
     "name": "stdout",
     "output_type": "stream",
     "text": [
      "1\n",
      "2\n",
      "4\n",
      "8\n",
      "16\n",
      "32\n",
      "64\n"
     ]
    }
   ],
   "source": [
    "x = 1\n",
    "while x < 100:\n",
    "   print(x)\n",
    "   x = x*2"
   ]
  },
  {
   "cell_type": "markdown",
   "metadata": {},
   "source": [
    "In this example, x equals one when the loop begins. Because x is less than 100, the program prints the value of x, then multiplies x by two. Then the condition is checked again, and because it is still True, the code inside the loop executes again. This process continues until x becomes 128, at which point the condition becomes False and the loop terminates.\n",
    "\n",
    "## Infinite loops\n",
    "Be careful with while loops because if you make a mistake with your logic or syntax, it could result in an infinite loop that never terminates. In the previous example, if x = x*2 were accidentally not indented to be in the body of the while loop, the loop would reach the print statement and cycle back to check the conditional statement, which of course would still be true because the value of x would never change from one.\n",
    "\n",
    "If you get stuck in an infinite loop, don’t worry. You can break out of it by interrupting the kernel. There are several ways to do this:\n",
    "\n",
    "1. Use the stop button in the menu at the top of the notebook.\n",
    "\n",
    "2. Go to Kernel in the menu bar at the top of the notebook and select Interrupt from the drop-down menu.\n",
    "\n",
    "3. While in command mode, press i twice.\n",
    "\n",
    "## `break & continue`\n",
    "It is possible to end a loop even if the conditional statement is still true. To do this, use a break statement. \n",
    "\n",
    "Here’s an example:"
   ]
  },
  {
   "cell_type": "code",
   "execution_count": 3,
   "metadata": {},
   "outputs": [
    {
     "name": "stdout",
     "output_type": "stream",
     "text": [
      "0 1\n",
      "1 2\n",
      "2 4\n",
      "3 8\n",
      "4 16\n"
     ]
    }
   ],
   "source": [
    "x = 1\n",
    "i = 0\n",
    "while x < 100:\n",
    "   if i == 5:\n",
    "       break\n",
    "   print(i, x)\n",
    "   x = x*2\n",
    "   i += 1"
   ]
  },
  {
   "cell_type": "markdown",
   "metadata": {},
   "source": [
    "In this example, there is a variable i that acts as a counter. For each iteration of the loop, the program:\n",
    "\n",
    "1.  Checks if x is less than 100.\n",
    "\n",
    "2.  If it is, then the program checks if i equals five.\n",
    "\n",
    "3.  If it does, the loop terminates because of the break statement. Otherwise, it prints the values of both i and x, doubles the value of x, and increments the value of i by one.\n",
    "\n",
    "4.  Repeats until x ≥ 100 or i = 5. In this case, the loop breaks when i becomes 5. \n",
    "\n",
    "It’s also possible to skip an iteration of the loop without executing the rest of the code inside the loop for the current iteration. To do this, use a continue statement. \n",
    "\n",
    "Here’s an example:"
   ]
  },
  {
   "cell_type": "code",
   "execution_count": 4,
   "metadata": {},
   "outputs": [
    {
     "name": "stdout",
     "output_type": "stream",
     "text": [
      "1\n",
      "2\n",
      "4\n",
      "5\n",
      "7\n",
      "8\n"
     ]
    }
   ],
   "source": [
    "i = 0\n",
    "while i < 10:\n",
    "    if i % 3 != 0:\n",
    "        print(i)\n",
    "        i += 1\n",
    "        continue\n",
    "    i += 1"
   ]
  },
  {
   "cell_type": "markdown",
   "metadata": {},
   "source": [
    "This example is a loop that prints all the numbers from zero through 9 that are <ins>not</ins> divisible by three. For each iteration of the loop, the program:\n",
    "\n",
    "1.   Checks if i is less than 10.\n",
    "\n",
    "2.   If it is, then the program uses the modulo operator to check if i is evenly divisible by three.\n",
    "\n",
    "3.   If it is not, then the program prints i, increments the value of i by one, and then cycles back to the beginning to check that i is less than 10. This happens because of the continue statement. The final i += 1 does not execute, thus avoiding a double incrementation of i.\n",
    "\n",
    "4.   But if step 2 evaluates i as evenly divisible by three, nothing in the if block executes (so there’s no print statement) and i is incremented by one.\n",
    "\n",
    "5.   Repeats until i becomes 10. \n",
    "\n",
    "#### Key takeaways \n",
    "A `while` loop allows you to repeatedly execute a block of code while a certain condition is true. You can use the break statement to exit the loop prematurely, and the continue statement to skip to the next iteration of the loop without executing the rest of the code in the current iteration."
   ]
  }
 ],
 "metadata": {
  "kernelspec": {
   "display_name": "base",
   "language": "python",
   "name": "python3"
  },
  "language_info": {
   "codemirror_mode": {
    "name": "ipython",
    "version": 3
   },
   "file_extension": ".py",
   "mimetype": "text/x-python",
   "name": "python",
   "nbconvert_exporter": "python",
   "pygments_lexer": "ipython3",
   "version": "3.8.16"
  },
  "orig_nbformat": 4
 },
 "nbformat": 4,
 "nbformat_minor": 2
}
